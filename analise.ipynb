{
 "cells": [
  {
   "cell_type": "code",
   "execution_count": null,
   "metadata": {
    "collapsed": false,
    "is_executing": true
   },
   "outputs": [],
   "source": [
    "pip install notebook"
   ]
  },
  {
   "cell_type": "markdown",
   "metadata": {},
   "source": [
    "# Importando bibliotecas"
   ]
  },
  {
   "cell_type": "code",
   "execution_count": null,
   "metadata": {
    "is_executing": true
   },
   "outputs": [],
   "source": [
    "from pyspark.sql import SparkSession\n",
    "from pyspark.sql.functions import *\n",
    "from pyspark.sql.types import *\n",
    "from pyspark.ml.feature import VectorAssembler\n",
    "from pyspark.ml.feature import StandardScaler\n",
    "import matplotlib.pyplot as plt\n",
    "import pyspark.sql"
   ]
  },
  {
   "cell_type": "markdown",
   "metadata": {},
   "source": [
    "# Iniciando sessão spark, importando e relacionando dados"
   ]
  },
  {
   "cell_type": "code",
   "execution_count": 3,
   "metadata": {},
   "outputs": [],
   "source": [
    "spark = SparkSession.builder.appName(\"Supermarket Analytics\").config(\"spark.memory.offHeap.enabled\",\"true\").config(\"spark.memory.offHeap.size\",\"10g\").getOrCreate()"
   ]
  },
  {
   "cell_type": "code",
   "execution_count": 4,
   "metadata": {},
   "outputs": [],
   "source": [
    "produtos = spark.read.csv('./base_de_dados/products.csv', sep=',', header=True)\n",
    "corredores = spark.read.csv('./base_de_dados/aisles.csv', sep=',', header=True)\n",
    "departamentos = spark.read.csv('./base_de_dados/departments.csv', sep=',', header=True)"
   ]
  },
  {
   "cell_type": "code",
   "execution_count": 5,
   "metadata": {},
   "outputs": [],
   "source": [
    "produtos = produtos.join(corredores, 'aisle_id')\n",
    "produtos = produtos.join(departamentos, 'department_id').select('product_id', 'product_name', 'aisle', 'department')"
   ]
  },
  {
   "cell_type": "code",
   "execution_count": 6,
   "metadata": {},
   "outputs": [],
   "source": [
    "pedidos = spark.read.csv('./base_de_dados/orders.csv', sep=',', header=True)\n",
    "produtos_por_pedido = spark.read.csv('./base_de_dados/order_products__train.csv', sep=',', header=True)"
   ]
  },
  {
   "cell_type": "code",
   "execution_count": 7,
   "metadata": {},
   "outputs": [
    {
     "name": "stdout",
     "output_type": "stream",
     "text": [
      "+----------+--------------------+--------------------+---------------+\n",
      "|product_id|        product_name|               aisle|     department|\n",
      "+----------+--------------------+--------------------+---------------+\n",
      "|         1|Chocolate Sandwic...|       cookies cakes|         snacks|\n",
      "|         2|    All-Seasons Salt|   spices seasonings|         pantry|\n",
      "|         3|Robust Golden Uns...|                 tea|      beverages|\n",
      "|         4|Smart Ones Classi...|        frozen meals|         frozen|\n",
      "|         5|Green Chile Anyti...|marinades meat pr...|         pantry|\n",
      "|         6|        Dry Nose Oil|    cold flu allergy|  personal care|\n",
      "|         7|Pure Coconut Wate...|       juice nectars|      beverages|\n",
      "|         8|Cut Russet Potato...|      frozen produce|         frozen|\n",
      "|         9|Light Strawberry ...|              yogurt|     dairy eggs|\n",
      "|        10|Sparkling Orange ...|water seltzer spa...|      beverages|\n",
      "|        11|   Peach Mango Juice|        refrigerated|      beverages|\n",
      "|        12|Chocolate Fudge L...|      frozen dessert|         frozen|\n",
      "|        13|   Saline Nasal Mist|    cold flu allergy|  personal care|\n",
      "|        14|Fresh Scent Dishw...|     dish detergents|      household|\n",
      "|        15|Overnight Diapers...|       diapers wipes|         babies|\n",
      "|        16|Mint Chocolate Fl...|  ice cream toppings|         snacks|\n",
      "|        17|   Rendered Duck Fat|     poultry counter|   meat seafood|\n",
      "|        18|Pizza for One Sup...|        frozen pizza|         frozen|\n",
      "|        19|Gluten Free Quino...|grains rice dried...|dry goods pasta|\n",
      "|        20|Pomegranate Cranb...|       juice nectars|      beverages|\n",
      "+----------+--------------------+--------------------+---------------+\n"
     ]
    }
   ],
   "source": [
    "produtos.show()"
   ]
  },
  {
   "cell_type": "code",
   "execution_count": 8,
   "metadata": {},
   "outputs": [
    {
     "name": "stdout",
     "output_type": "stream",
     "text": [
      "+--------+-------+--------+------------+---------+-----------------+----------------------+\n",
      "|order_id|user_id|eval_set|order_number|order_dow|order_hour_of_day|days_since_prior_order|\n",
      "+--------+-------+--------+------------+---------+-----------------+----------------------+\n",
      "| 2539329|      1|   prior|           1|        2|               08|                  NULL|\n",
      "| 2398795|      1|   prior|           2|        3|               07|                  15.0|\n",
      "|  473747|      1|   prior|           3|        3|               12|                  21.0|\n",
      "| 2254736|      1|   prior|           4|        4|               07|                  29.0|\n",
      "|  431534|      1|   prior|           5|        4|               15|                  28.0|\n",
      "| 3367565|      1|   prior|           6|        2|               07|                  19.0|\n",
      "|  550135|      1|   prior|           7|        1|               09|                  20.0|\n",
      "| 3108588|      1|   prior|           8|        1|               14|                  14.0|\n",
      "| 2295261|      1|   prior|           9|        1|               16|                   0.0|\n",
      "| 2550362|      1|   prior|          10|        4|               08|                  30.0|\n",
      "| 1187899|      1|   train|          11|        4|               08|                  14.0|\n",
      "| 2168274|      2|   prior|           1|        2|               11|                  NULL|\n",
      "| 1501582|      2|   prior|           2|        5|               10|                  10.0|\n",
      "| 1901567|      2|   prior|           3|        1|               10|                   3.0|\n",
      "|  738281|      2|   prior|           4|        2|               10|                   8.0|\n",
      "| 1673511|      2|   prior|           5|        3|               11|                   8.0|\n",
      "| 1199898|      2|   prior|           6|        2|               09|                  13.0|\n",
      "| 3194192|      2|   prior|           7|        2|               12|                  14.0|\n",
      "|  788338|      2|   prior|           8|        1|               15|                  27.0|\n",
      "| 1718559|      2|   prior|           9|        2|               09|                   8.0|\n",
      "+--------+-------+--------+------------+---------+-----------------+----------------------+\n"
     ]
    }
   ],
   "source": [
    "pedidos.show()"
   ]
  },
  {
   "cell_type": "code",
   "execution_count": 9,
   "metadata": {},
   "outputs": [
    {
     "name": "stdout",
     "output_type": "stream",
     "text": [
      "+--------+----------+-----------------+---------+\n",
      "|order_id|product_id|add_to_cart_order|reordered|\n",
      "+--------+----------+-----------------+---------+\n",
      "|       1|     49302|                1|        1|\n",
      "|       1|     11109|                2|        1|\n",
      "|       1|     10246|                3|        0|\n",
      "|       1|     49683|                4|        0|\n",
      "|       1|     43633|                5|        1|\n",
      "|       1|     13176|                6|        0|\n",
      "|       1|     47209|                7|        0|\n",
      "|       1|     22035|                8|        1|\n",
      "|      36|     39612|                1|        0|\n",
      "|      36|     19660|                2|        1|\n",
      "|      36|     49235|                3|        0|\n",
      "|      36|     43086|                4|        1|\n",
      "|      36|     46620|                5|        1|\n",
      "|      36|     34497|                6|        1|\n",
      "|      36|     48679|                7|        1|\n",
      "|      36|     46979|                8|        1|\n",
      "|      38|     11913|                1|        0|\n",
      "|      38|     18159|                2|        0|\n",
      "|      38|      4461|                3|        0|\n",
      "|      38|     21616|                4|        1|\n",
      "+--------+----------+-----------------+---------+\n"
     ]
    }
   ],
   "source": [
    "produtos_por_pedido.show()"
   ]
  },
  {
   "cell_type": "markdown",
   "metadata": {},
   "source": [
    "# Etapa de verificação limpeza dos dados"
   ]
  },
  {
   "cell_type": "code",
   "execution_count": 10,
   "metadata": {},
   "outputs": [],
   "source": [
    "#Dropando duplicatas se houver\n",
    "produtos = produtos.dropDuplicates()\n",
    "pedidos = pedidos.dropDuplicates()\n",
    "produtos_por_pedido = produtos_por_pedido.dropDuplicates()"
   ]
  },
  {
   "cell_type": "markdown",
   "metadata": {},
   "source": [
    "Tentando identificar valores inconsistentes nos dados"
   ]
  },
  {
   "cell_type": "code",
   "execution_count": 11,
   "metadata": {},
   "outputs": [
    {
     "data": {
      "text/plain": [
       "['product_id', 'product_name', 'aisle', 'department']"
      ]
     },
     "execution_count": 11,
     "metadata": {},
     "output_type": "execute_result"
    }
   ],
   "source": [
    "#Começando com a tabela produtos\n",
    "produtos.columns"
   ]
  },
  {
   "cell_type": "code",
   "execution_count": 12,
   "metadata": {},
   "outputs": [],
   "source": [
    "def reformatar_string(df, table_name) -> pyspark.sql.DataFrame:\n",
    "    df.withColumn(table_name, lower(regexp_replace(table_name, \"[^a-zA-Z0-9\\\\s]\", \"\")))\n",
    "    return df"
   ]
  },
  {
   "cell_type": "code",
   "execution_count": 13,
   "metadata": {},
   "outputs": [],
   "source": [
    "def cast_var_int(pedidos, table_name) -> pyspark.sql.DataFrame:\n",
    "    return pedidos.withColumn(table_name, col(table_name).cast(\"int\"))"
   ]
  },
  {
   "cell_type": "code",
   "execution_count": 14,
   "metadata": {},
   "outputs": [],
   "source": [
    "pedidos = cast_var_int(pedidos, 'order_hour_of_day')\n",
    "pedidos = cast_var_int(pedidos, 'days_since_prior_order')"
   ]
  },
  {
   "cell_type": "code",
   "execution_count": 15,
   "metadata": {},
   "outputs": [
    {
     "name": "stdout",
     "output_type": "stream",
     "text": [
      "root\n",
      " |-- product_id: string (nullable = true)\n",
      " |-- product_name: string (nullable = true)\n",
      " |-- aisle: string (nullable = true)\n",
      " |-- department: string (nullable = true)\n"
     ]
    }
   ],
   "source": [
    "produtos.printSchema()"
   ]
  },
  {
   "cell_type": "code",
   "execution_count": 16,
   "metadata": {},
   "outputs": [
    {
     "data": {
      "text/plain": [
       "49687"
      ]
     },
     "execution_count": 16,
     "metadata": {},
     "output_type": "execute_result"
    }
   ],
   "source": [
    "produtos.select('product_id').distinct().count()"
   ]
  },
  {
   "cell_type": "code",
   "execution_count": 17,
   "metadata": {},
   "outputs": [],
   "source": [
    "produtos = produtos.dropDuplicates(subset=['product_id'])"
   ]
  },
  {
   "cell_type": "code",
   "execution_count": 18,
   "metadata": {},
   "outputs": [
    {
     "data": {
      "text/plain": [
       "49687"
      ]
     },
     "execution_count": 18,
     "metadata": {},
     "output_type": "execute_result"
    }
   ],
   "source": [
    "produtos.select('product_id').distinct().count()"
   ]
  },
  {
   "cell_type": "code",
   "execution_count": 19,
   "metadata": {},
   "outputs": [
    {
     "name": "stdout",
     "output_type": "stream",
     "text": [
      "beverages,\tmeat seafood,\tfrozen,\n",
      "deli,\tdry goods pasta,\tbulk,\n",
      "other,\tbabies,\tbakery,\n",
      "produce,\tpantry,\tdairy eggs,\n",
      "canned goods,\tpersonal care,\tbreakfast,\n",
      "missing,\tpets,\thousehold,\n",
      "alcohol,\tinternational,\tsnacks,\n"
     ]
    }
   ],
   "source": [
    "departamentos = produtos.select('department').distinct().collect()\n",
    "txt = ''\n",
    "i=0\n",
    "for row in departamentos:\n",
    "    if i==2:\n",
    "        txt += f'{row.department},\\n'\n",
    "        i=0\n",
    "        continue\n",
    "    txt += f'{row.department},\\t'\n",
    "    i += 1\n",
    "print(txt)"
   ]
  },
  {
   "cell_type": "markdown",
   "metadata": {},
   "source": [
    "Detectamos uma primeira inconsistencia, há departamentos nao listados classificados como missing, logo mais iremos analisar melhor o comportamento e a frequência desses departamentos missing, mas por enquanto vamos continuar"
   ]
  },
  {
   "cell_type": "code",
   "execution_count": 20,
   "metadata": {},
   "outputs": [
    {
     "data": {
      "text/plain": [
       "49687"
      ]
     },
     "execution_count": 20,
     "metadata": {},
     "output_type": "execute_result"
    }
   ],
   "source": [
    "produtos.select('product_name').distinct().count()"
   ]
  },
  {
   "cell_type": "code",
   "execution_count": 21,
   "metadata": {},
   "outputs": [],
   "source": [
    "produtos = reformatar_string(produtos, 'product_name')"
   ]
  },
  {
   "cell_type": "code",
   "execution_count": 22,
   "metadata": {},
   "outputs": [
    {
     "data": {
      "text/plain": [
       "49687"
      ]
     },
     "execution_count": 22,
     "metadata": {},
     "output_type": "execute_result"
    }
   ],
   "source": [
    "produtos.select('product_name').distinct().count()"
   ]
  },
  {
   "cell_type": "code",
   "execution_count": 23,
   "metadata": {},
   "outputs": [
    {
     "data": {
      "text/plain": [
       "49687"
      ]
     },
     "execution_count": 23,
     "metadata": {},
     "output_type": "execute_result"
    }
   ],
   "source": [
    "produtos = produtos.dropDuplicates()\n",
    "produtos.select('product_id').distinct().count()"
   ]
  },
  {
   "cell_type": "code",
   "execution_count": 24,
   "metadata": {},
   "outputs": [
    {
     "name": "stdout",
     "output_type": "stream",
     "text": [
      "+----------+------------+-----+----------+\n",
      "|product_id|product_name|aisle|department|\n",
      "+----------+------------+-----+----------+\n",
      "+----------+------------+-----+----------+\n"
     ]
    }
   ],
   "source": [
    "produtos.select('*').filter(col('product_name') == 'cookies n cream ice cream').show(truncate=False)"
   ]
  },
  {
   "cell_type": "markdown",
   "metadata": {},
   "source": [
    "Segunda inconsistência encontrada, por algum erro de formatação alguns produtos estavam sendo classificados como diferentes, mesmo sendo os mesmos, mas nós vimos e corrigimos a medida do possível, infelizmente não podemos dropa-los, por conta que isso poderia resultar em dados nulos dos produtos em pedidos, mas isso não vai atrapalhar nossa análise, pois ja que resolvemos o problema do nome, agora ele é único e todos que possuirem id's diferentes será classificado com o nome igual e se convertemos o nome em um dado ordinal para treinar um modelo mais a frente, poderá ser feito sem grandes dificuldades"
   ]
  },
  {
   "cell_type": "code",
   "execution_count": 25,
   "metadata": {},
   "outputs": [
    {
     "data": {
      "text/plain": [
       "134"
      ]
     },
     "execution_count": 25,
     "metadata": {},
     "output_type": "execute_result"
    }
   ],
   "source": [
    "produtos.select('aisle').distinct().count()"
   ]
  },
  {
   "cell_type": "code",
   "execution_count": 26,
   "metadata": {},
   "outputs": [],
   "source": [
    "produtos = reformatar_string(produtos, 'aisle')"
   ]
  },
  {
   "cell_type": "code",
   "execution_count": 27,
   "metadata": {},
   "outputs": [
    {
     "data": {
      "text/plain": [
       "134"
      ]
     },
     "execution_count": 27,
     "metadata": {},
     "output_type": "execute_result"
    }
   ],
   "source": [
    "produtos.select('aisle').distinct().count()"
   ]
  },
  {
   "cell_type": "code",
   "execution_count": 28,
   "metadata": {},
   "outputs": [
    {
     "name": "stdout",
     "output_type": "stream",
     "text": [
      "bulk dried fruits vegetables,\trefrigerated,\tsoy lactosefree,\n",
      "instant foods,\ttrail mix snack mix,\ttrash bags liners,\n",
      "fresh fruits,\tasian foods,\thair care,\n",
      "beers coolers,\tfeminine care,\tfrozen produce,\n",
      "crackers,\tfresh dips tapenades,\tfresh herbs,\n",
      "kitchen supplies,\tcondiments,\tyogurt,\n",
      "beauty,\tlaundry,\tkosher foods,\n",
      "buns rolls,\tfacial care,\tpickled goods olives,\n",
      "cat food care,\tother creams cheeses,\tcream,\n",
      "muscles joints pain relief,\tenergy sports drinks,\tdiapers wipes,\n",
      "soap,\tcleaning products,\tmint gum,\n",
      "eye ear care,\tenergy granola bars,\tprepared soups salads,\n",
      "specialty wines champagnes,\thoneys syrups nectars,\tpackaged meat,\n",
      "tortillas flat bread,\toils vinegars,\tcanned jarred vegetables,\n",
      "chips pretzels,\tpackaged vegetables fruits,\tice cream toppings,\n",
      "prepared meals,\tprotein meal replacements,\tcocoa drink mixes,\n",
      "other,\tlatino foods,\tpreserved dips spreads,\n",
      "skin care,\twater seltzer sparkling water,\tpackaged seafood,\n",
      "frozen meat seafood,\tice cream ice,\tfrozen pizza,\n",
      "eggs,\tpasta sauce,\tfirst aid,\n",
      "digestion,\tcandy chocolate,\tbread,\n",
      "meat counter,\tnuts seeds dried fruit,\tfrozen dessert,\n",
      "frozen breakfast,\tsoup broth bouillon,\tbody lotions soap,\n",
      "seafood counter,\tspices seasonings,\tshave needs,\n",
      "packaged poultry,\tpackaged produce,\tfood storage,\n",
      "tea,\tcanned fruit applesauce,\tbreakfast bakery,\n",
      "bulk grains rice dried goods,\tbaking ingredients,\tmissing,\n",
      "soft drinks,\tpackaged cheese,\tvitamins supplements,\n",
      "dog food care,\tpoultry counter,\tmarinades meat preparation,\n",
      "cookies cakes,\tfresh pasta,\tmilk,\n",
      "juice nectars,\tcoffee,\tdoughs gelatins bake mixes,\n",
      "baking supplies decor,\tfrozen juice,\tpaper goods,\n",
      "fresh vegetables,\tfrozen appetizers sides,\tgranola,\n",
      "indian foods,\tfrozen breads doughs,\tdish detergents,\n",
      "spirits,\tbutter,\tsalad dressing toppings,\n",
      "deodorants,\tcold flu allergy,\tred wines,\n",
      "white wines,\trefrigerated pudding desserts,\tgrains rice dried goods,\n",
      "tofu meat alternatives,\tmore household,\tspecialty cheeses,\n",
      "baby accessories,\tfruit vegetable snacks,\tcanned meals beans,\n",
      "plates bowls cups flatware,\thot dogs bacon sausage,\tdry pasta,\n",
      "oral hygiene,\tcanned meat seafood,\tbreakfast bars pastries,\n",
      "hot cereal pancake mixes,\tfrozen meals,\tbaby bath body care,\n",
      "popcorn jerky,\tfrozen vegan vegetarian,\tspreads,\n",
      "cereal,\tbakery desserts,\tbaby food formula,\n",
      "air fresheners candles,\tlunch meat,\t\n"
     ]
    }
   ],
   "source": [
    "corredores = produtos.select('aisle').distinct().collect()\n",
    "txt = ''\n",
    "i=0\n",
    "for row in corredores:\n",
    "    if i==2:\n",
    "        txt += f'{row.aisle},\\n'\n",
    "        i=0\n",
    "        continue\n",
    "    txt += f'{row.aisle},\\t'\n",
    "    i += 1\n",
    "print(txt)"
   ]
  },
  {
   "cell_type": "markdown",
   "metadata": {},
   "source": [
    "Encontramos um tipo other e um tipo missing, vamos dar uma analisada melhor mais tarde"
   ]
  },
  {
   "cell_type": "code",
   "execution_count": 29,
   "metadata": {},
   "outputs": [
    {
     "data": {
      "text/plain": [
       "['order_id',\n",
       " 'user_id',\n",
       " 'eval_set',\n",
       " 'order_number',\n",
       " 'order_dow',\n",
       " 'order_hour_of_day',\n",
       " 'days_since_prior_order']"
      ]
     },
     "execution_count": 29,
     "metadata": {},
     "output_type": "execute_result"
    }
   ],
   "source": [
    "# Agora vamos analisar pedidos\n",
    "pedidos.columns"
   ]
  },
  {
   "cell_type": "code",
   "execution_count": 30,
   "metadata": {},
   "outputs": [],
   "source": [
    "pedidos = cast_var_int(pedidos, 'order_number')\n",
    "pedidos = cast_var_int(pedidos, 'order_dow')\n",
    "pedidos = cast_var_int(pedidos, 'order_hour_of_day')\n",
    "pedidos = cast_var_int(pedidos, 'days_since_prior_order')"
   ]
  },
  {
   "cell_type": "code",
   "execution_count": 31,
   "metadata": {},
   "outputs": [
    {
     "name": "stdout",
     "output_type": "stream",
     "text": [
      "root\n",
      " |-- order_id: string (nullable = true)\n",
      " |-- user_id: string (nullable = true)\n",
      " |-- eval_set: string (nullable = true)\n",
      " |-- order_number: integer (nullable = true)\n",
      " |-- order_dow: integer (nullable = true)\n",
      " |-- order_hour_of_day: integer (nullable = true)\n",
      " |-- days_since_prior_order: integer (nullable = true)\n"
     ]
    }
   ],
   "source": [
    "pedidos.printSchema()"
   ]
  },
  {
   "cell_type": "markdown",
   "metadata": {},
   "source": [
    "order_id como primary key"
   ]
  },
  {
   "cell_type": "code",
   "execution_count": 32,
   "metadata": {},
   "outputs": [
    {
     "data": {
      "text/plain": [
       "3421083"
      ]
     },
     "execution_count": 32,
     "metadata": {},
     "output_type": "execute_result"
    }
   ],
   "source": [
    "pedidos.count()"
   ]
  },
  {
   "cell_type": "code",
   "execution_count": 33,
   "metadata": {},
   "outputs": [],
   "source": [
    "pedidos = pedidos.dropDuplicates(subset=['order_id'])"
   ]
  },
  {
   "cell_type": "code",
   "execution_count": 34,
   "metadata": {},
   "outputs": [
    {
     "data": {
      "text/plain": [
       "3421083"
      ]
     },
     "execution_count": 34,
     "metadata": {},
     "output_type": "execute_result"
    }
   ],
   "source": [
    "pedidos.count()"
   ]
  },
  {
   "cell_type": "markdown",
   "metadata": {},
   "source": [
    "order_number com valores negativos ou iguais a 0"
   ]
  },
  {
   "cell_type": "code",
   "execution_count": 35,
   "metadata": {},
   "outputs": [
    {
     "name": "stdout",
     "output_type": "stream",
     "text": [
      "+--------+-------+--------+------------+---------+-----------------+----------------------+\n",
      "|order_id|user_id|eval_set|order_number|order_dow|order_hour_of_day|days_since_prior_order|\n",
      "+--------+-------+--------+------------+---------+-----------------+----------------------+\n",
      "+--------+-------+--------+------------+---------+-----------------+----------------------+\n"
     ]
    }
   ],
   "source": [
    "pedidos.filter(col(\"order_number\") <= 0).show()"
   ]
  },
  {
   "cell_type": "markdown",
   "metadata": {},
   "source": [
    "Vendo amplitude de order_hour_of_day"
   ]
  },
  {
   "cell_type": "code",
   "execution_count": 36,
   "metadata": {},
   "outputs": [
    {
     "name": "stdout",
     "output_type": "stream",
     "text": [
      "Maior valor: 23\n",
      "Menor Valor: 0\n",
      "Amplitude: 23\n"
     ]
    }
   ],
   "source": [
    "max_valor = pedidos.agg(max(\"order_hour_of_day\")).collect()[0][0]\n",
    "min_valor = pedidos.agg(min(\"order_hour_of_day\")).collect()[0][0]\n",
    "\n",
    "print(f'Maior valor: {max_valor}\\nMenor Valor: {min_valor}\\nAmplitude: {max_valor - min_valor}')"
   ]
  },
  {
   "cell_type": "markdown",
   "metadata": {},
   "source": [
    "Vendo amplitude de days_since_prior_order"
   ]
  },
  {
   "cell_type": "code",
   "execution_count": 37,
   "metadata": {},
   "outputs": [
    {
     "name": "stdout",
     "output_type": "stream",
     "text": [
      "Maior valor: 30\n",
      "Menor Valor: 0\n",
      "Amplitude: 30\n"
     ]
    }
   ],
   "source": [
    "max_valor = pedidos.agg(max(\"days_since_prior_order\")).collect()[0][0]\n",
    "min_valor = pedidos.agg(min(\"days_since_prior_order\")).collect()[0][0]\n",
    "\n",
    "print(f'Maior valor: {max_valor}\\nMenor Valor: {min_valor}\\nAmplitude: {max_valor - min_valor}')"
   ]
  },
  {
   "cell_type": "code",
   "execution_count": 38,
   "metadata": {},
   "outputs": [
    {
     "data": {
      "text/plain": [
       "['order_id', 'product_id', 'add_to_cart_order', 'reordered']"
      ]
     },
     "execution_count": 38,
     "metadata": {},
     "output_type": "execute_result"
    }
   ],
   "source": [
    "#Por último produtos por pedido\n",
    "produtos_por_pedido.columns"
   ]
  },
  {
   "cell_type": "code",
   "execution_count": 39,
   "metadata": {},
   "outputs": [],
   "source": [
    "produtos_por_pedido = cast_var_int(produtos_por_pedido, 'add_to_cart_order')\n",
    "produtos_por_pedido = cast_var_int(produtos_por_pedido, 'reordered')"
   ]
  },
  {
   "cell_type": "code",
   "execution_count": 40,
   "metadata": {},
   "outputs": [
    {
     "name": "stdout",
     "output_type": "stream",
     "text": [
      "root\n",
      " |-- order_id: string (nullable = true)\n",
      " |-- product_id: string (nullable = true)\n",
      " |-- add_to_cart_order: integer (nullable = true)\n",
      " |-- reordered: integer (nullable = true)\n"
     ]
    }
   ],
   "source": [
    "produtos_por_pedido.printSchema()"
   ]
  },
  {
   "cell_type": "markdown",
   "metadata": {},
   "source": [
    "produtos_por_pedido"
   ]
  },
  {
   "cell_type": "code",
   "execution_count": 41,
   "metadata": {},
   "outputs": [
    {
     "name": "stdout",
     "output_type": "stream",
     "text": [
      "Maior valor: 80\n",
      "Menor Valor: 1\n",
      "Amplitude: 79\n"
     ]
    }
   ],
   "source": [
    "max_valor = produtos_por_pedido.agg(max(\"add_to_cart_order\")).collect()[0][0]\n",
    "min_valor = produtos_por_pedido.agg(min(\"add_to_cart_order\")).collect()[0][0]\n",
    "\n",
    "print(f'Maior valor: {max_valor}\\nMenor Valor: {min_valor}\\nAmplitude: {max_valor - min_valor}')"
   ]
  },
  {
   "cell_type": "code",
   "execution_count": 42,
   "metadata": {},
   "outputs": [
    {
     "name": "stdout",
     "output_type": "stream",
     "text": [
      "Maior valor: 1\n",
      "Menor Valor: 0\n",
      "Amplitude: 1\n"
     ]
    }
   ],
   "source": [
    "max_valor = produtos_por_pedido.agg(max(\"reordered\")).collect()[0][0]\n",
    "min_valor = produtos_por_pedido.agg(min(\"reordered\")).collect()[0][0]\n",
    "\n",
    "print(f'Maior valor: {max_valor}\\nMenor Valor: {min_valor}\\nAmplitude: {max_valor - min_valor}')"
   ]
  },
  {
   "cell_type": "markdown",
   "metadata": {},
   "source": [
    "# Preparando os dados"
   ]
  },
  {
   "cell_type": "code",
   "execution_count": 43,
   "metadata": {},
   "outputs": [],
   "source": [
    "import pyspark.sql.functions as F\n",
    "from pyspark.sql.window import Window\n",
    "\n",
    "windowSpec = Window.orderBy().rowsBetween(Window.unboundedPreceding, Window.currentRow)"
   ]
  },
  {
   "cell_type": "markdown",
   "metadata": {},
   "source": [
    "Verificando valores nulos"
   ]
  },
  {
   "cell_type": "code",
   "execution_count": 51,
   "metadata": {},
   "outputs": [
    {
     "name": "stdout",
     "output_type": "stream",
     "text": [
      "product_id: 0.00% de valores nulos\n",
      "product_name: 0.00% de valores nulos\n",
      "aisle: 0.00% de valores nulos\n",
      "department: 0.00% de valores nulos\n"
     ]
    }
   ],
   "source": [
    "import pyspark.sql.functions as F\n",
    "\n",
    "\n",
    "nulos = produtos.agg(*[\n",
    "    (1 - (F.count(c) / F.count('*'))).alias(c + 'nulos')\n",
    "    for c in produtos.columns\n",
    "])\n",
    "\n",
    "# Coletar e exibir os resultados\n",
    "null_percentage = nulos.collect()[0]\n",
    "for column in produtos.columns:\n",
    "    print(f\"{column}: {null_percentage[column+'nulos'] * 100:.2f}% de valores nulos\")"
   ]
  },
  {
   "cell_type": "code",
   "execution_count": 66,
   "metadata": {},
   "outputs": [
    {
     "name": "stdout",
     "output_type": "stream",
     "text": [
      "order_id: 0.00% de valores nulos\n",
      "user_id: 0.00% de valores nulos\n",
      "eval_set: 0.00% de valores nulos\n",
      "order_number: 0.00% de valores nulos\n",
      "order_dow: 0.00% de valores nulos\n",
      "order_hour_of_day: 0.00% de valores nulos\n",
      "days_since_prior_order: 6.03% de valores nulos\n"
     ]
    }
   ],
   "source": [
    "import pyspark.sql.functions as F\n",
    "\n",
    "\n",
    "nulos = pedidos.agg(*[\n",
    "    (1 - (F.count(c) / F.count('*'))).alias(c + 'nulos')\n",
    "    for c in pedidos.columns\n",
    "])\n",
    "\n",
    "# Coletar e exibir os resultados\n",
    "null_percentage = nulos.collect()[0]\n",
    "for column in pedidos.columns:\n",
    "    print(f\"{column}: {null_percentage[column+'nulos'] * 100:.2f}% de valores nulos\")"
   ]
  },
  {
   "cell_type": "code",
   "execution_count": 67,
   "metadata": {},
   "outputs": [
    {
     "name": "stdout",
     "output_type": "stream",
     "text": [
      "order_id: 0.00% de valores nulos\n",
      "product_id: 0.00% de valores nulos\n",
      "add_to_cart_order: 0.00% de valores nulos\n",
      "reordered: 0.00% de valores nulos\n"
     ]
    }
   ],
   "source": [
    "import pyspark.sql.functions as F\n",
    "\n",
    "\n",
    "\n",
    "nulos = produtos_por_pedido.agg(*[\n",
    "    (1 - (F.count(c) / F.count('*'))).alias(c + 'nulos')\n",
    "    for c in produtos_por_pedido.columns\n",
    "])\n",
    "\n",
    "# Coletar e exibir os resultados\n",
    "null_percentage = nulos.collect()[0]\n",
    "for column in produtos_por_pedido.columns:\n",
    "    print(f\"{column}: {null_percentage[column+'nulos'] * 100:.2f}% de valores nulos\")"
   ]
  },
  {
   "cell_type": "markdown",
   "metadata": {},
   "source": [
    "Criando views e listando todas as colunas"
   ]
  },
  {
   "cell_type": "code",
   "execution_count": 44,
   "metadata": {},
   "outputs": [],
   "source": [
    "produtos.createOrReplaceTempView('produtos')\n",
    "pedidos.createOrReplaceTempView('pedidos')\n",
    "produtos_por_pedido.createOrReplaceTempView('produtos_por_pedido')"
   ]
  },
  {
   "cell_type": "code",
   "execution_count": 63,
   "metadata": {},
   "outputs": [
    {
     "name": "stdout",
     "output_type": "stream",
     "text": [
      "['product_id', 'product_name', 'aisle', 'department']\n",
      "['order_id', 'user_id', 'eval_set', 'order_number', 'order_dow', 'order_hour_of_day', 'days_since_prior_order']\n",
      "['order_id', 'product_id', 'add_to_cart_order', 'reordered']\n"
     ]
    }
   ],
   "source": [
    "print(f'{produtos.columns}\\n{pedidos.columns}\\n{produtos_por_pedido.columns}')"
   ]
  },
  {
   "cell_type": "markdown",
   "metadata": {},
   "source": [
    "# Análise 1: Departamentos que mais vendem e seus produtos"
   ]
  },
  {
   "cell_type": "code",
   "execution_count": 83,
   "metadata": {},
   "outputs": [
    {
     "data": {
      "image/png": "[encoded data removed]",
      "text/plain": [
       "<Figure size 1000x600 with 1 Axes>"
      ]
     },
     "metadata": {},
     "output_type": "display_data"
    }
   ],
   "source": [
    "from pyspark.sql.window import Window\n",
    "\n",
    "pareto = spark.sql('SELECT p.department, COUNT(pp.product_id) AS produtos_totais \\\n",
    "          FROM produtos_por_pedido pp \\\n",
    "          INNER JOIN produtos p ON p.product_id = pp.product_id \\\n",
    "          GROUP BY p.department \\\n",
    "          ORDER BY produtos_totais DESC')\n",
    "\n",
    "\n",
    "pareto = pareto.withColumn('produtos_totais_percentuais', \n",
    "                                 F.round((F.col('produtos_totais') / F.sum('produtos_totais').over(Window.partitionBy())) * 100, 2)) \\\n",
    "                    .withColumn('produtos_totais_percentuais_acumulados', \n",
    "                                 F.round(F.sum('produtos_totais_percentuais').over(windowSpec), 2))\n",
    "\n",
    "# Lembrando que o diagrama de pareto esta relacionado a regra dos 80/20, com base nisso vamos pegar os 20% dos primeiros departamentos que ao todo são 5 \n",
    "pareto = pareto.limit(5)\n",
    "\n",
    "pandas_pareto = pareto.toPandas()\n",
    "plt.figure(figsize=(10, 6))\n",
    "plt.bar(pandas_pareto['department'], pandas_pareto['produtos_totais_percentuais'])\n",
    "plt.xlabel('Departamento')\n",
    "plt.ylabel('Percentual de produtos vendidos')\n",
    "plt.title('Percentual de produtos vendidos por departamento')\n",
    "plt.xticks(rotation=45)\n",
    "plt.tight_layout()\n",
    "plt.grid(True)\n",
    "plt.show() "
   ]
  },
  {
   "cell_type": "code",
   "execution_count": 66,
   "metadata": {},
   "outputs": [],
   "source": [
    "Produtos = {}\n",
    "for departament in pandas_pareto['department'].unique():\n",
    "        products = spark.sql(f'SELECT p.product_name, p.department, COUNT(pp.product_id) AS produtos_totais \\\n",
    "        FROM produtos_por_pedido pp \\\n",
    "        INNER JOIN produtos p ON p.product_id = pp.product_id \\\n",
    "        WHERE p.department = \"{departament}\" \\\n",
    "        GROUP BY p.product_name, p.department \\\n",
    "        ORDER BY produtos_totais DESC')\n",
    "\n",
    "        products = products.withColumn('produtos_totais_percentuais', \n",
    "                                 F.round((F.col('produtos_totais') / F.sum('produtos_totais').over(Window.partitionBy())) * 100, 2)) \\\n",
    "                    .withColumn('produtos_totais_percentuais_acumulados', \n",
    "                                 F.round(F.sum('produtos_totais_percentuais').over(windowSpec), 2))\n",
    "        Produtos[departament] = products"
   ]
  },
  {
   "cell_type": "code",
   "execution_count": 82,
   "metadata": {},
   "outputs": [
    {
     "name": "stdout",
     "output_type": "stream",
     "text": [
      "+--------------------+----------+---------------+---------------------------+--------------------------------------+\n",
      "|        product_name|department|produtos_totais|produtos_totais_percentuais|produtos_totais_percentuais_acumulados|\n",
      "+--------------------+----------+---------------+---------------------------+--------------------------------------+\n",
      "|              banana|   produce|          18726|                       4.58|                                  4.58|\n",
      "|bag of organic ba...|   produce|          15480|                       3.78|                                  8.36|\n",
      "|organic strawberries|   produce|          10894|                       2.66|                                 11.02|\n",
      "|organic baby spinach|   produce|           9784|                       2.39|                                 13.41|\n",
      "|         large lemon|   produce|           8135|                       1.99|                                  15.4|\n",
      "|     organic avocado|   produce|           7409|                       1.81|                                 17.21|\n",
      "|organic hass avocado|   produce|           7293|                       1.78|                                 18.99|\n",
      "|        strawberries|   produce|           6494|                       1.59|                                 20.58|\n",
      "|               limes|   produce|           6033|                       1.47|                                 22.05|\n",
      "| organic raspberries|   produce|           5546|                       1.36|                                 23.41|\n",
      "| organic blueberries|   produce|           4966|                       1.21|                                 24.62|\n",
      "|    organic cucumber|   produce|           4613|                       1.13|                                 25.75|\n",
      "|    organic zucchini|   produce|           4589|                       1.12|                                 26.87|\n",
      "|organic yellow onion|   produce|           4290|                       1.05|                                 27.92|\n",
      "|      organic garlic|   produce|           4158|                       1.02|                                 28.94|\n",
      "| seedless red grapes|   produce|           4059|                       0.99|                                 29.93|\n",
      "|           asparagus|   produce|           3868|                       0.95|                                 30.88|\n",
      "|organic grape tom...|   produce|           3823|                       0.93|                                 31.81|\n",
      "|   organic red onion|   produce|           3818|                       0.93|                                 32.74|\n",
      "|       yellow onions|   produce|           3762|                       0.92|                                 33.66|\n",
      "+--------------------+----------+---------------+---------------------------+--------------------------------------+\n",
      "only showing top 20 rows\n",
      "\n",
      "None\n",
      "+--------------------+----------+---------------+---------------------------+--------------------------------------+\n",
      "|        product_name|department|produtos_totais|produtos_totais_percentuais|produtos_totais_percentuais_acumulados|\n",
      "+--------------------+----------+---------------+---------------------------+--------------------------------------+\n",
      "|  organic whole milk|dairy eggs|           4908|                       2.26|                                  2.26|\n",
      "|  organic half  half|dairy eggs|           2646|                       1.22|                                  3.48|\n",
      "|          half  half|dairy eggs|           2424|                       1.12|                                   4.6|\n",
      "|organic unsweeten...|dairy eggs|           2176|                        1.0|                                   5.6|\n",
      "|unsweetened almon...|dairy eggs|           2169|                        1.0|                                   6.6|\n",
      "|organic whole str...|dairy eggs|           1993|                       0.92|                                  7.52|\n",
      "| large alfresco eggs|dairy eggs|           1898|                       0.87|                                  8.39|\n",
      "|organic grade a f...|dairy eggs|           1767|                       0.81|                                   9.2|\n",
      "|     grated parmesan|dairy eggs|           1694|                       0.78|                                  9.98|\n",
      "|  2 reduced fat milk|dairy eggs|           1540|                       0.71|                                 10.69|\n",
      "|organic reduced f...|dairy eggs|           1535|                       0.71|                                  11.4|\n",
      "|   pure irish butter|dairy eggs|           1476|                       0.68|                                 12.08|\n",
      "|unsweetened origi...|dairy eggs|           1465|                       0.67|                                 12.75|\n",
      "|feta cheese crumbles|dairy eggs|           1449|                       0.67|                                 13.42|\n",
      "|     unsalted butter|dairy eggs|           1435|                       0.66|                                 14.08|\n",
      "|organic sticks lo...|dairy eggs|           1342|                       0.62|                                  14.7|\n",
      "|          whole milk|dairy eggs|           1335|                       0.62|                                 15.32|\n",
      "|   shredded parmesan|dairy eggs|           1324|                       0.61|                                 15.93|\n",
      "|vanilla almond br...|dairy eggs|           1277|                       0.59|                                 16.52|\n",
      "|sharp cheddar cheese|dairy eggs|           1262|                       0.58|                                  17.1|\n",
      "+--------------------+----------+---------------+---------------------------+--------------------------------------+\n",
      "only showing top 20 rows\n",
      "\n",
      "None\n",
      "+--------------------+----------+---------------+---------------------------+--------------------------------------+\n",
      "|        product_name|department|produtos_totais|produtos_totais_percentuais|produtos_totais_percentuais_acumulados|\n",
      "+--------------------+----------+---------------+---------------------------+--------------------------------------+\n",
      "|lightly salted ba...|    snacks|            991|                       0.83|                                  0.83|\n",
      "|pretzel crisps or...|    snacks|            753|                       0.63|                                  1.46|\n",
      "| sea salt pita chips|    snacks|            707|                       0.59|                                  2.05|\n",
      "|original veggie s...|    snacks|            684|                       0.58|                                  2.63|\n",
      "|organic tortilla ...|    snacks|            637|                       0.54|                                  3.17|\n",
      "|chocolate chip co...|    snacks|            614|                       0.52|                                  3.69|\n",
      "|pita chips simply...|    snacks|            604|                       0.51|                                   4.2|\n",
      "|sea salt  vinegar...|    snacks|            597|                        0.5|                                   4.7|\n",
      "|crunchy oats n ho...|    snacks|            561|                       0.47|                                  5.17|\n",
      "|100 calorie  per ...|    snacks|            552|                       0.46|                                  5.63|\n",
      "|baked aged white ...|    snacks|            546|                       0.46|                                  6.09|\n",
      "|           trail mix|    snacks|            533|                       0.45|                                  6.54|\n",
      "|organic thompson ...|    snacks|            513|                       0.43|                                  6.97|\n",
      "|sea salt potato c...|    snacks|            511|                       0.43|                                   7.4|\n",
      "|boomchickapop sea...|    snacks|            497|                       0.42|                                  7.82|\n",
      "|hint of sea salt ...|    snacks|            494|                       0.42|                                  8.24|\n",
      "|mixed fruit fruit...|    snacks|            489|                       0.41|                                  8.65|\n",
      "|organic whole cas...|    snacks|            476|                        0.4|                                  9.05|\n",
      "|organic bunny fru...|    snacks|            475|                        0.4|                                  9.45|\n",
      "|organic summer st...|    snacks|            475|                        0.4|                                  9.85|\n",
      "+--------------------+----------+---------------+---------------------------+--------------------------------------+\n",
      "only showing top 20 rows\n",
      "\n",
      "None\n",
      "+--------------------+----------+---------------+---------------------------+--------------------------------------+\n",
      "|        product_name|department|produtos_totais|produtos_totais_percentuais|produtos_totais_percentuais_acumulados|\n",
      "+--------------------+----------+---------------+---------------------------+--------------------------------------+\n",
      "|sparkling water g...| beverages|           3359|                       2.95|                                  2.95|\n",
      "|        spring water| beverages|           2225|                       1.95|                                   4.9|\n",
      "|lime sparkling water| beverages|           1966|                       1.72|                                  6.62|\n",
      "|sparkling natural...| beverages|           1803|                       1.58|                                   8.2|\n",
      "|                soda| beverages|           1507|                       1.32|                                  9.52|\n",
      "|sparkling lemon w...| beverages|           1423|                       1.25|                                 10.77|\n",
      "|100 raw coconut w...| beverages|           1298|                       1.14|                                 11.91|\n",
      "|italian sparkling...| beverages|           1132|                       0.99|                                  12.9|\n",
      "|pure sparkling water| beverages|           1125|                       0.99|                                 13.89|\n",
      "|original orange j...| beverages|           1054|                       0.92|                                 14.81|\n",
      "|natural spring water| beverages|            950|                       0.83|                                 15.64|\n",
      "|peach pear flavor...| beverages|            899|                       0.79|                                 16.43|\n",
      "|organic raw kombu...| beverages|            855|                       0.75|                                 17.18|\n",
      "|electrolyte enhan...| beverages|            847|                       0.74|                                 17.92|\n",
      "|original no pulp ...| beverages|            819|                       0.72|                                 18.64|\n",
      "|     distilled water| beverages|            793|                        0.7|                                 19.34|\n",
      "|            lemonade| beverages|            791|                       0.69|                                 20.03|\n",
      "|  pure coconut water| beverages|            729|                       0.64|                                 20.67|\n",
      "|sparkling water b...| beverages|            714|                       0.63|                                  21.3|\n",
      "|               water| beverages|            689|                        0.6|                                  21.9|\n",
      "+--------------------+----------+---------------+---------------------------+--------------------------------------+\n",
      "only showing top 20 rows\n",
      "\n",
      "None\n",
      "+--------------------+----------+---------------+---------------------------+--------------------------------------+\n",
      "|        product_name|department|produtos_totais|produtos_totais_percentuais|produtos_totais_percentuais_acumulados|\n",
      "+--------------------+----------+---------------+---------------------------+--------------------------------------+\n",
      "|         blueberries|    frozen|           2323|                       2.31|                                  2.31|\n",
      "|organic broccoli ...|    frozen|           1361|                       1.36|                                  3.67|\n",
      "|organic whole str...|    frozen|           1213|                       1.21|                                  4.88|\n",
      "|    pineapple chunks|    frozen|           1077|                       1.07|                                  5.95|\n",
      "|frozen organic wi...|    frozen|           1065|                       1.06|                                  7.01|\n",
      "| organic frozen peas|    frozen|            753|                       0.75|                                  7.76|\n",
      "|        mango chunks|    frozen|            746|                       0.74|                                   8.5|\n",
      "|    macaroni  cheese|    frozen|            712|                       0.71|                                  9.21|\n",
      "|frozen broccoli f...|    frozen|            687|                       0.68|                                  9.89|\n",
      "|        berry medley|    frozen|            667|                       0.66|                                 10.55|\n",
      "| chocolate ice cream|    frozen|            635|                       0.63|                                 11.18|\n",
      "|  organic brown rice|    frozen|            572|                       0.57|                                 11.75|\n",
      "|chicken  maple br...|    frozen|            570|                       0.57|                                 12.32|\n",
      "|organic cheese fr...|    frozen|            538|                       0.54|                                 12.86|\n",
      "|          green peas|    frozen|            497|                       0.49|                                 13.35|\n",
      "|gluten free whole...|    frozen|            492|                       0.49|                                 13.84|\n",
      "|thin crust pepper...|    frozen|            473|                       0.47|                                 14.31|\n",
      "|eggo homestyle wa...|    frozen|            470|                       0.47|                                 14.78|\n",
      "|naturals chicken ...|    frozen|            453|                       0.45|                                 15.23|\n",
      "|organic chicken s...|    frozen|            451|                       0.45|                                 15.68|\n",
      "+--------------------+----------+---------------+---------------------------+--------------------------------------+\n",
      "only showing top 20 rows\n",
      "\n",
      "None\n"
     ]
    }
   ],
   "source": [
    "# produce    frozen     dairy eggs     snacks     beverages #\n",
    "\n",
    "for departament in pandas_pareto['department'].unique():\n",
    "    print(Produtos[departament].show())"
   ]
  },
  {
   "cell_type": "code",
   "execution_count": null,
   "metadata": {},
   "outputs": [],
   "source": [
    "plt.figure(figsize=(20, 20))\n",
    "\n",
    "for i, departament in enumerate(pandas_pareto['department'].unique()):\n",
    "    aux = Produtos[departament].toPandas()\n",
    "    plt.subplot(5, 1, i+1)\n",
    "    plt.bar(aux['product_name'].head(6), aux['produtos_totais_percentuais'].head(6))\n",
    "    plt.title(f'Produtos mais vendidos: {departament}')\n",
    "    plt.ylabel('Frequência relativa percentual')\n",
    "\n",
    "plt.tight_layout()\n",
    "\n",
    "plt.show()"
   ]
  },
  {
   "cell_type": "markdown",
   "metadata": {},
   "source": [
    "Tomada de decisão: Otimizar o Estoque e Aumentar a Receita com Produtos Mais Vendidos"
   ]
  },
  {
   "cell_type": "markdown",
   "metadata": {},
   "source": [
    "# Análise 2: Horários que mais vendem"
   ]
  },
  {
   "cell_type": "code",
   "execution_count": 58,
   "metadata": {},
   "outputs": [
    {
     "name": "stdout",
     "output_type": "stream",
     "text": [
      "+-----------------+------+----------------------------+\n",
      "|order_hour_of_day| count|percentual_order_hour_of_day|\n",
      "+-----------------+------+----------------------------+\n",
      "|                0| 22758|                        0.67|\n",
      "|                1| 12398|                        0.36|\n",
      "|                2|  7539|                        0.22|\n",
      "|                3|  5474|                        0.16|\n",
      "|                4|  5527|                        0.16|\n",
      "|                5|  9569|                        0.28|\n",
      "|                6| 30529|                        0.89|\n",
      "|                7| 91868|                        2.69|\n",
      "|                8|178201|                        5.21|\n",
      "|                9|257812|                        7.54|\n",
      "|               10|288418|                        8.43|\n",
      "|               11|284728|                        8.32|\n",
      "|               12|272841|                        7.98|\n",
      "|               13|277999|                        8.13|\n",
      "|               14|283042|                        8.27|\n",
      "|               15|283639|                        8.29|\n",
      "|               16|272553|                        7.97|\n",
      "|               17|228795|                        6.69|\n",
      "|               18|182912|                        5.35|\n",
      "|               19|140569|                        4.11|\n",
      "+-----------------+------+----------------------------+\n"
     ]
    }
   ],
   "source": [
    "horarios = pedidos.select('order_hour_of_day').groupby('order_hour_of_day').count().orderBy('order_hour_of_day')\n",
    "\n",
    "horarios = horarios.withColumn('percentual_order_hour_of_day', \n",
    "                                 F.round((F.col('count') / F.sum('count').over(Window.partitionBy())) * 100, 2)) \n",
    "\n",
    "horarios.show()"
   ]
  },
  {
   "cell_type": "code",
   "execution_count": 61,
   "metadata": {},
   "outputs": [
    {
     "data": {
      "image/png": "[encoded data removed]",
      "text/plain": [
       "<Figure size 1000x600 with 1 Axes>"
      ]
     },
     "metadata": {},
     "output_type": "display_data"
    }
   ],
   "source": [
    "df_horarios = horarios.toPandas()\n",
    "\n",
    "plt.figure(figsize=(10,6))\n",
    "plt.bar(df_horarios['order_hour_of_day'], df_horarios['percentual_order_hour_of_day'])\n",
    "plt.xlabel('Hora do dia (24h)')\n",
    "plt.ylabel('Frequencia Relaticva Percentual de produtos vendidos')\n",
    "plt.title('Distribuição de Frequancia dos horarios que mais vendem')\n",
    "plt.grid(True)\n",
    "plt.show()"
   ]
  },
  {
   "cell_type": "markdown",
   "metadata": {},
   "source": [
    "Os horarios de maior venda são de 9 a 17"
   ]
  },
  {
   "cell_type": "code",
   "execution_count": 119,
   "metadata": {},
   "outputs": [],
   "source": [
    "horas = np.arange(9, 18)\n",
    "\n",
    "Produtos_mais_vendidos_por_hora = {}\n",
    "\n",
    "for hora in horas:\n",
    "    hora_produtos = spark.sql(f'SELECT DISTINCT p.product_name, COUNT(p.product_name) AS Quantidade, pe.order_hour_of_day \\\n",
    "            FROM produtos p \\\n",
    "            INNER JOIN produtos_por_pedido ppp ON ppp.product_id = p.product_id \\\n",
    "            INNER JOIN pedidos pe ON ppp.order_id = pe.order_id \\\n",
    "            WHERE pe.order_hour_of_day = {hora} \\\n",
    "            GROUP BY p.product_name, pe.order_hour_of_day \\\n",
    "            ORDER BY Quantidade DESC')\n",
    "\n",
    "    hora_produtos = hora_produtos.withColumn('Quantidade Relativa Percentual', \n",
    "                                    F.round((F.col('Quantidade') / F.sum('Quantidade').over(Window.partitionBy())) * 100, 2)) \\\n",
    "                        .withColumn('Quantidade Relativa Percentual Acumulada', \n",
    "                                    F.round(F.sum('Quantidade Relativa Percentual').over(windowSpec), 2))\n",
    "    Produtos_mais_vendidos_por_hora[hora] = hora_produtos"
   ]
  },
  {
   "cell_type": "code",
   "execution_count": 124,
   "metadata": {},
   "outputs": [
    {
     "name": "stdout",
     "output_type": "stream",
     "text": [
      "+--------------------+----------+-----------------+------------------------------+----------------------------------------+\n",
      "|        product_name|Quantidade|order_hour_of_day|Quantidade Relativa Percentual|Quantidade Relativa Percentual Acumulada|\n",
      "+--------------------+----------+-----------------+------------------------------+----------------------------------------+\n",
      "|              banana|      1372|                9|                          1.46|                                    1.46|\n",
      "|bag of organic ba...|      1101|                9|                          1.17|                                    2.63|\n",
      "|organic strawberries|       730|                9|                          0.78|                                    3.41|\n",
      "|organic baby spinach|       647|                9|                          0.69|                                     4.1|\n",
      "|         large lemon|       561|                9|                           0.6|                                     4.7|\n",
      "|organic hass avocado|       494|                9|                          0.53|                                    5.23|\n",
      "|        strawberries|       481|                9|                          0.51|                                    5.74|\n",
      "|     organic avocado|       479|                9|                          0.51|                                    6.25|\n",
      "| organic raspberries|       408|                9|                          0.43|                                    6.68|\n",
      "|               limes|       397|                9|                          0.42|                                     7.1|\n",
      "| organic blueberries|       376|                9|                           0.4|                                     7.5|\n",
      "|  organic whole milk|       355|                9|                          0.38|                                    7.88|\n",
      "|    organic zucchini|       316|                9|                          0.34|                                    8.22|\n",
      "|    organic cucumber|       309|                9|                          0.33|                                    8.55|\n",
      "| seedless red grapes|       298|                9|                          0.32|                                    8.87|\n",
      "|   organic red onion|       274|                9|                          0.29|                                    9.16|\n",
      "|organic yellow onion|       269|                9|                          0.29|                                    9.45|\n",
      "|      organic garlic|       262|                9|                          0.28|                                    9.73|\n",
      "|  organic fuji apple|       252|                9|                          0.27|                                    10.0|\n",
      "|    honeycrisp apple|       246|                9|                          0.26|                                   10.26|\n",
      "+--------------------+----------+-----------------+------------------------------+----------------------------------------+\n",
      "only showing top 20 rows\n",
      "\n",
      "None\n",
      "+--------------------+----------+-----------------+------------------------------+----------------------------------------+\n",
      "|        product_name|Quantidade|order_hour_of_day|Quantidade Relativa Percentual|Quantidade Relativa Percentual Acumulada|\n",
      "+--------------------+----------+-----------------+------------------------------+----------------------------------------+\n",
      "|              banana|      1503|               10|                          1.36|                                    1.36|\n",
      "|bag of organic ba...|      1221|               10|                          1.11|                                    2.47|\n",
      "|organic strawberries|       854|               10|                          0.77|                                    3.24|\n",
      "|organic baby spinach|       743|               10|                          0.67|                                    3.91|\n",
      "|         large lemon|       648|               10|                          0.59|                                     4.5|\n",
      "|     organic avocado|       597|               10|                          0.54|                                    5.04|\n",
      "|organic hass avocado|       544|               10|                          0.49|                                    5.53|\n",
      "|        strawberries|       534|               10|                          0.48|                                    6.01|\n",
      "|               limes|       460|               10|                          0.42|                                    6.43|\n",
      "| organic raspberries|       438|               10|                           0.4|                                    6.83|\n",
      "| organic blueberries|       416|               10|                          0.38|                                    7.21|\n",
      "|  organic whole milk|       381|               10|                          0.34|                                    7.55|\n",
      "|    organic zucchini|       357|               10|                          0.32|                                    7.87|\n",
      "| seedless red grapes|       356|               10|                          0.32|                                    8.19|\n",
      "|organic yellow onion|       346|               10|                          0.31|                                     8.5|\n",
      "|    organic cucumber|       337|               10|                          0.31|                                    8.81|\n",
      "|      organic garlic|       327|               10|                           0.3|                                    9.11|\n",
      "|       yellow onions|       317|               10|                          0.29|                                     9.4|\n",
      "|    honeycrisp apple|       308|               10|                          0.28|                                    9.68|\n",
      "|organic grape tom...|       293|               10|                          0.27|                                    9.95|\n",
      "+--------------------+----------+-----------------+------------------------------+----------------------------------------+\n",
      "only showing top 20 rows\n",
      "\n",
      "None\n",
      "+--------------------+----------+-----------------+------------------------------+----------------------------------------+\n",
      "|        product_name|Quantidade|order_hour_of_day|Quantidade Relativa Percentual|Quantidade Relativa Percentual Acumulada|\n",
      "+--------------------+----------+-----------------+------------------------------+----------------------------------------+\n",
      "|              banana|      1476|               11|                          1.29|                                    1.29|\n",
      "|bag of organic ba...|      1193|               11|                          1.05|                                    2.34|\n",
      "|organic strawberries|       828|               11|                          0.73|                                    3.07|\n",
      "|organic baby spinach|       807|               11|                          0.71|                                    3.78|\n",
      "|         large lemon|       719|               11|                          0.63|                                    4.41|\n",
      "|     organic avocado|       607|               11|                          0.53|                                    4.94|\n",
      "|organic hass avocado|       556|               11|                          0.49|                                    5.43|\n",
      "|        strawberries|       551|               11|                          0.48|                                    5.91|\n",
      "|               limes|       486|               11|                          0.43|                                    6.34|\n",
      "| organic raspberries|       416|               11|                          0.36|                                     6.7|\n",
      "|    organic zucchini|       385|               11|                          0.34|                                    7.04|\n",
      "|  organic whole milk|       379|               11|                          0.33|                                    7.37|\n",
      "|    organic cucumber|       374|               11|                          0.33|                                     7.7|\n",
      "| organic blueberries|       372|               11|                          0.33|                                    8.03|\n",
      "|       yellow onions|       345|               11|                           0.3|                                    8.33|\n",
      "|           asparagus|       332|               11|                          0.29|                                    8.62|\n",
      "|organic yellow onion|       321|               11|                          0.28|                                     8.9|\n",
      "|      organic garlic|       316|               11|                          0.28|                                    9.18|\n",
      "|   organic red onion|       308|               11|                          0.27|                                    9.45|\n",
      "|organic grape tom...|       306|               11|                          0.27|                                    9.72|\n",
      "+--------------------+----------+-----------------+------------------------------+----------------------------------------+\n",
      "only showing top 20 rows\n",
      "\n",
      "None\n",
      "+--------------------+----------+-----------------+------------------------------+----------------------------------------+\n",
      "|        product_name|Quantidade|order_hour_of_day|Quantidade Relativa Percentual|Quantidade Relativa Percentual Acumulada|\n",
      "+--------------------+----------+-----------------+------------------------------+----------------------------------------+\n",
      "|              banana|      1458|               12|                           1.3|                                     1.3|\n",
      "|bag of organic ba...|      1176|               12|                          1.05|                                    2.35|\n",
      "|organic strawberries|       849|               12|                          0.76|                                    3.11|\n",
      "|organic baby spinach|       798|               12|                          0.71|                                    3.82|\n",
      "|         large lemon|       721|               12|                          0.65|                                    4.47|\n",
      "|organic hass avocado|       607|               12|                          0.54|                                    5.01|\n",
      "|     organic avocado|       578|               12|                          0.52|                                    5.53|\n",
      "|        strawberries|       507|               12|                          0.45|                                    5.98|\n",
      "|               limes|       507|               12|                          0.45|                                    6.43|\n",
      "|    organic zucchini|       422|               12|                          0.38|                                    6.81|\n",
      "| organic raspberries|       412|               12|                          0.37|                                    7.18|\n",
      "| organic blueberries|       396|               12|                          0.35|                                    7.53|\n",
      "|      organic garlic|       388|               12|                          0.35|                                    7.88|\n",
      "|    organic cucumber|       373|               12|                          0.33|                                    8.21|\n",
      "|organic yellow onion|       372|               12|                          0.33|                                    8.54|\n",
      "|  organic whole milk|       355|               12|                          0.32|                                    8.86|\n",
      "|   organic red onion|       342|               12|                          0.31|                                    9.17|\n",
      "|       yellow onions|       326|               12|                          0.29|                                    9.46|\n",
      "|           asparagus|       326|               12|                          0.29|                                    9.75|\n",
      "|    honeycrisp apple|       301|               12|                          0.27|                                   10.02|\n",
      "+--------------------+----------+-----------------+------------------------------+----------------------------------------+\n",
      "only showing top 20 rows\n",
      "\n",
      "None\n",
      "+--------------------+----------+-----------------+------------------------------+----------------------------------------+\n",
      "|        product_name|Quantidade|order_hour_of_day|Quantidade Relativa Percentual|Quantidade Relativa Percentual Acumulada|\n",
      "+--------------------+----------+-----------------+------------------------------+----------------------------------------+\n",
      "|              banana|      1453|               13|                          1.27|                                    1.27|\n",
      "|bag of organic ba...|      1218|               13|                          1.06|                                    2.33|\n",
      "|organic strawberries|       933|               13|                          0.81|                                    3.14|\n",
      "|organic baby spinach|       837|               13|                          0.73|                                    3.87|\n",
      "|         large lemon|       669|               13|                          0.58|                                    4.45|\n",
      "|     organic avocado|       645|               13|                          0.56|                                    5.01|\n",
      "|organic hass avocado|       629|               13|                          0.55|                                    5.56|\n",
      "|               limes|       537|               13|                          0.47|                                    6.03|\n",
      "|        strawberries|       508|               13|                          0.44|                                    6.47|\n",
      "|  organic whole milk|       424|               13|                          0.37|                                    6.84|\n",
      "| organic raspberries|       421|               13|                          0.37|                                    7.21|\n",
      "|organic yellow onion|       395|               13|                          0.34|                                    7.55|\n",
      "|    organic cucumber|       387|               13|                          0.34|                                    7.89|\n",
      "| organic blueberries|       384|               13|                          0.33|                                    8.22|\n",
      "|    organic zucchini|       370|               13|                          0.32|                                    8.54|\n",
      "|   organic red onion|       364|               13|                          0.32|                                    8.86|\n",
      "|    organic cilantro|       340|               13|                           0.3|                                    9.16|\n",
      "|      organic garlic|       336|               13|                          0.29|                                    9.45|\n",
      "|           asparagus|       334|               13|                          0.29|                                    9.74|\n",
      "|organic grape tom...|       330|               13|                          0.29|                                   10.03|\n",
      "+--------------------+----------+-----------------+------------------------------+----------------------------------------+\n",
      "only showing top 20 rows\n",
      "\n",
      "None\n",
      "+--------------------+----------+-----------------+------------------------------+----------------------------------------+\n",
      "|        product_name|Quantidade|order_hour_of_day|Quantidade Relativa Percentual|Quantidade Relativa Percentual Acumulada|\n",
      "+--------------------+----------+-----------------+------------------------------+----------------------------------------+\n",
      "|              banana|      1563|               14|                          1.31|                                    1.31|\n",
      "|bag of organic ba...|      1302|               14|                          1.09|                                     2.4|\n",
      "|organic strawberries|       956|               14|                           0.8|                                     3.2|\n",
      "|organic baby spinach|       853|               14|                          0.71|                                    3.91|\n",
      "|         large lemon|       721|               14|                           0.6|                                    4.51|\n",
      "|     organic avocado|       655|               14|                          0.55|                                    5.06|\n",
      "|organic hass avocado|       615|               14|                          0.52|                                    5.58|\n",
      "|               limes|       575|               14|                          0.48|                                    6.06|\n",
      "|        strawberries|       529|               14|                          0.44|                                     6.5|\n",
      "| organic raspberries|       486|               14|                          0.41|                                    6.91|\n",
      "|  organic whole milk|       436|               14|                          0.37|                                    7.28|\n",
      "|organic yellow onion|       411|               14|                          0.34|                                    7.62|\n",
      "|    organic zucchini|       398|               14|                          0.33|                                    7.95|\n",
      "|      organic garlic|       385|               14|                          0.32|                                    8.27|\n",
      "| organic blueberries|       385|               14|                          0.32|                                    8.59|\n",
      "|    organic cucumber|       361|               14|                           0.3|                                    8.89|\n",
      "|   organic red onion|       356|               14|                           0.3|                                    9.19|\n",
      "| seedless red grapes|       349|               14|                          0.29|                                    9.48|\n",
      "|           asparagus|       345|               14|                          0.29|                                    9.77|\n",
      "|    organic cilantro|       342|               14|                          0.29|                                   10.06|\n",
      "+--------------------+----------+-----------------+------------------------------+----------------------------------------+\n",
      "only showing top 20 rows\n",
      "\n",
      "None\n",
      "+--------------------+----------+-----------------+------------------------------+----------------------------------------+\n",
      "|        product_name|Quantidade|order_hour_of_day|Quantidade Relativa Percentual|Quantidade Relativa Percentual Acumulada|\n",
      "+--------------------+----------+-----------------+------------------------------+----------------------------------------+\n",
      "|              banana|      1519|               15|                          1.31|                                    1.31|\n",
      "|bag of organic ba...|      1334|               15|                          1.15|                                    2.46|\n",
      "|organic strawberries|       895|               15|                          0.77|                                    3.23|\n",
      "|organic baby spinach|       864|               15|                          0.74|                                    3.97|\n",
      "|         large lemon|       681|               15|                          0.59|                                    4.56|\n",
      "|organic hass avocado|       631|               15|                          0.54|                                     5.1|\n",
      "|     organic avocado|       629|               15|                          0.54|                                    5.64|\n",
      "|        strawberries|       547|               15|                          0.47|                                    6.11|\n",
      "|               limes|       490|               15|                          0.42|                                    6.53|\n",
      "| organic raspberries|       488|               15|                          0.42|                                    6.95|\n",
      "| organic blueberries|       427|               15|                          0.37|                                    7.32|\n",
      "|    organic zucchini|       422|               15|                          0.36|                                    7.68|\n",
      "|    organic cucumber|       401|               15|                          0.35|                                    8.03|\n",
      "|organic yellow onion|       400|               15|                          0.34|                                    8.37|\n",
      "|  organic whole milk|       400|               15|                          0.34|                                    8.71|\n",
      "|      organic garlic|       358|               15|                          0.31|                                    9.02|\n",
      "|       yellow onions|       343|               15|                           0.3|                                    9.32|\n",
      "|           asparagus|       341|               15|                          0.29|                                    9.61|\n",
      "|organic grape tom...|       339|               15|                          0.29|                                     9.9|\n",
      "| seedless red grapes|       327|               15|                          0.28|                                   10.18|\n",
      "+--------------------+----------+-----------------+------------------------------+----------------------------------------+\n",
      "only showing top 20 rows\n",
      "\n",
      "None\n",
      "+--------------------+----------+-----------------+------------------------------+----------------------------------------+\n",
      "|        product_name|Quantidade|order_hour_of_day|Quantidade Relativa Percentual|Quantidade Relativa Percentual Acumulada|\n",
      "+--------------------+----------+-----------------+------------------------------+----------------------------------------+\n",
      "|              banana|      1467|               16|                          1.33|                                    1.33|\n",
      "|bag of organic ba...|      1285|               16|                          1.17|                                     2.5|\n",
      "|organic strawberries|       842|               16|                          0.76|                                    3.26|\n",
      "|organic baby spinach|       769|               16|                           0.7|                                    3.96|\n",
      "|         large lemon|       632|               16|                          0.57|                                    4.53|\n",
      "|     organic avocado|       604|               16|                          0.55|                                    5.08|\n",
      "|organic hass avocado|       593|               16|                          0.54|                                    5.62|\n",
      "|               limes|       526|               16|                          0.48|                                     6.1|\n",
      "|        strawberries|       489|               16|                          0.44|                                    6.54|\n",
      "| organic raspberries|       414|               16|                          0.38|                                    6.92|\n",
      "|    organic cucumber|       388|               16|                          0.35|                                    7.27|\n",
      "| organic blueberries|       370|               16|                          0.34|                                    7.61|\n",
      "|    organic zucchini|       364|               16|                          0.33|                                    7.94|\n",
      "|organic yellow onion|       363|               16|                          0.33|                                    8.27|\n",
      "|  organic whole milk|       349|               16|                          0.32|                                    8.59|\n",
      "|      organic garlic|       330|               16|                           0.3|                                    8.89|\n",
      "|           asparagus|       325|               16|                          0.29|                                    9.18|\n",
      "| seedless red grapes|       310|               16|                          0.28|                                    9.46|\n",
      "|       yellow onions|       300|               16|                          0.27|                                    9.73|\n",
      "|    organic cilantro|       299|               16|                          0.27|                                    10.0|\n",
      "+--------------------+----------+-----------------+------------------------------+----------------------------------------+\n",
      "only showing top 20 rows\n",
      "\n",
      "None\n",
      "+--------------------+----------+-----------------+------------------------------+----------------------------------------+\n",
      "|        product_name|Quantidade|order_hour_of_day|Quantidade Relativa Percentual|Quantidade Relativa Percentual Acumulada|\n",
      "+--------------------+----------+-----------------+------------------------------+----------------------------------------+\n",
      "|              banana|      1318|               17|                          1.36|                                    1.36|\n",
      "|bag of organic ba...|      1046|               17|                          1.08|                                    2.44|\n",
      "|organic baby spinach|       687|               17|                          0.71|                                    3.15|\n",
      "|organic strawberries|       672|               17|                          0.69|                                    3.84|\n",
      "|         large lemon|       555|               17|                          0.57|                                    4.41|\n",
      "|     organic avocado|       549|               17|                          0.57|                                    4.98|\n",
      "|organic hass avocado|       507|               17|                          0.52|                                     5.5|\n",
      "|        strawberries|       448|               17|                          0.46|                                    5.96|\n",
      "|               limes|       407|               17|                          0.42|                                    6.38|\n",
      "| organic raspberries|       365|               17|                          0.38|                                    6.76|\n",
      "|    organic cucumber|       335|               17|                          0.35|                                    7.11|\n",
      "| organic blueberries|       330|               17|                          0.34|                                    7.45|\n",
      "|  organic whole milk|       325|               17|                          0.34|                                    7.79|\n",
      "|    organic zucchini|       314|               17|                          0.32|                                    8.11|\n",
      "|organic yellow onion|       307|               17|                          0.32|                                    8.43|\n",
      "|      organic garlic|       286|               17|                           0.3|                                    8.73|\n",
      "| seedless red grapes|       281|               17|                          0.29|                                    9.02|\n",
      "|organic grape tom...|       269|               17|                          0.28|                                     9.3|\n",
      "|           asparagus|       268|               17|                          0.28|                                    9.58|\n",
      "|       yellow onions|       259|               17|                          0.27|                                    9.85|\n",
      "+--------------------+----------+-----------------+------------------------------+----------------------------------------+\n",
      "only showing top 20 rows\n",
      "\n",
      "None\n"
     ]
    }
   ],
   "source": [
    "# Horas de pico [9-17] #\n",
    "\n",
    "for hora in horas:\n",
    "    print(Produtos_mais_vendidos_por_hora[hora].show())"
   ]
  },
  {
   "cell_type": "code",
   "execution_count": 55,
   "metadata": {},
   "outputs": [],
   "source": [
    "horas = np.arange(9, 18)\n",
    "\n",
    "Produtos_mais_vendidos_por_hora_dep = {}\n",
    "\n",
    "for hora in horas:\n",
    "    hora_departamento = spark.sql(f'SELECT p.department, COUNT(p.product_name) AS Quantidade, pe.order_hour_of_day \\\n",
    "            FROM produtos p \\\n",
    "            INNER JOIN produtos_por_pedido ppp ON ppp.product_id = p.product_id \\\n",
    "            INNER JOIN pedidos pe ON ppp.order_id = pe.order_id \\\n",
    "            WHERE pe.order_hour_of_day = {hora} \\\n",
    "            GROUP BY p.department, pe.order_hour_of_day \\\n",
    "            ORDER BY Quantidade DESC')\n",
    "\n",
    "    hora_departamento = hora_departamento.withColumn('Quantidade Relativa Percentual', \n",
    "                                    F.round((F.col('Quantidade') / F.sum('Quantidade').over(Window.partitionBy())) * 100, 2)) \\\n",
    "                        .withColumn('Quantidade Relativa Percentual Acumulada', \n",
    "                                    F.round(F.sum('Quantidade Relativa Percentual').over(windowSpec), 2))\n",
    "    Produtos_mais_vendidos_por_hora_dep[hora] = hora_departamento"
   ]
  },
  {
   "cell_type": "code",
   "execution_count": 56,
   "metadata": {},
   "outputs": [
    {
     "name": "stdout",
     "output_type": "stream",
     "text": [
      "+---------------+----------+-----------------+------------------------------+----------------------------------------+\n",
      "|     department|Quantidade|order_hour_of_day|Quantidade Relativa Percentual|Quantidade Relativa Percentual Acumulada|\n",
      "+---------------+----------+-----------------+------------------------------+----------------------------------------+\n",
      "|        produce|     27891|                9|                         29.72|                                   29.72|\n",
      "|     dairy eggs|     15146|                9|                         16.14|                                   45.86|\n",
      "|         snacks|      8270|                9|                          8.81|                                   54.67|\n",
      "|      beverages|      8185|                9|                          8.72|                                   63.39|\n",
      "|         frozen|      5955|                9|                          6.34|                                   69.73|\n",
      "|         pantry|      5218|                9|                          5.56|                                   75.29|\n",
      "|         bakery|      3356|                9|                          3.58|                                   78.87|\n",
      "|   canned goods|      3175|                9|                          3.38|                                   82.25|\n",
      "|           deli|      2769|                9|                          2.95|                                    85.2|\n",
      "|      household|      2680|                9|                          2.86|                                   88.06|\n",
      "|dry goods pasta|      2392|                9|                          2.55|                                   90.61|\n",
      "|      breakfast|      2142|                9|                          2.28|                                   92.89|\n",
      "|   meat seafood|      1885|                9|                          2.01|                                    94.9|\n",
      "|  personal care|      1472|                9|                          1.57|                                   96.47|\n",
      "|         babies|      1257|                9|                          1.34|                                   97.81|\n",
      "|  international|       746|                9|                          0.79|                                    98.6|\n",
      "|        missing|       540|                9|                          0.58|                                   99.18|\n",
      "|        alcohol|       343|                9|                          0.37|                                   99.55|\n",
      "|           pets|       248|                9|                          0.26|                                   99.81|\n",
      "|          other|        98|                9|                           0.1|                                   99.91|\n",
      "+---------------+----------+-----------------+------------------------------+----------------------------------------+\n",
      "only showing top 20 rows\n",
      "\n",
      "None\n",
      "+---------------+----------+-----------------+------------------------------+----------------------------------------+\n",
      "|     department|Quantidade|order_hour_of_day|Quantidade Relativa Percentual|Quantidade Relativa Percentual Acumulada|\n",
      "+---------------+----------+-----------------+------------------------------+----------------------------------------+\n",
      "|        produce|     32430|               10|                         29.35|                                   29.35|\n",
      "|     dairy eggs|     17375|               10|                         15.73|                                   45.08|\n",
      "|         snacks|      9912|               10|                          8.97|                                   54.05|\n",
      "|      beverages|      9790|               10|                          8.86|                                   62.91|\n",
      "|         frozen|      7192|               10|                          6.51|                                   69.42|\n",
      "|         pantry|      6547|               10|                          5.93|                                   75.35|\n",
      "|         bakery|      3822|               10|                          3.46|                                   78.81|\n",
      "|   canned goods|      3591|               10|                          3.25|                                   82.06|\n",
      "|           deli|      3513|               10|                          3.18|                                   85.24|\n",
      "|      household|      3157|               10|                          2.86|                                    88.1|\n",
      "|dry goods pasta|      2946|               10|                          2.67|                                   90.77|\n",
      "|      breakfast|      2456|               10|                          2.22|                                   92.99|\n",
      "|   meat seafood|      2360|               10|                          2.14|                                   95.13|\n",
      "|  personal care|      1644|               10|                          1.49|                                   96.62|\n",
      "|         babies|      1153|               10|                          1.04|                                   97.66|\n",
      "|  international|       915|               10|                          0.83|                                   98.49|\n",
      "|        missing|       663|               10|                           0.6|                                   99.09|\n",
      "|        alcohol|       409|               10|                          0.37|                                   99.46|\n",
      "|           pets|       358|               10|                          0.32|                                   99.78|\n",
      "|          other|       135|               10|                          0.12|                                    99.9|\n",
      "+---------------+----------+-----------------+------------------------------+----------------------------------------+\n",
      "only showing top 20 rows\n",
      "\n",
      "None\n",
      "+---------------+----------+-----------------+------------------------------+----------------------------------------+\n",
      "|     department|Quantidade|order_hour_of_day|Quantidade Relativa Percentual|Quantidade Relativa Percentual Acumulada|\n",
      "+---------------+----------+-----------------+------------------------------+----------------------------------------+\n",
      "|        produce|     33335|               11|                         29.21|                                   29.21|\n",
      "|     dairy eggs|     17410|               11|                         15.26|                                   44.47|\n",
      "|         snacks|     10242|               11|                          8.97|                                   53.44|\n",
      "|      beverages|      9710|               11|                          8.51|                                   61.95|\n",
      "|         frozen|      8089|               11|                          7.09|                                   69.04|\n",
      "|         pantry|      6880|               11|                          6.03|                                   75.07|\n",
      "|   canned goods|      4094|               11|                          3.59|                                   78.66|\n",
      "|         bakery|      3863|               11|                          3.39|                                   82.05|\n",
      "|           deli|      3650|               11|                           3.2|                                   85.25|\n",
      "|dry goods pasta|      3238|               11|                          2.84|                                   88.09|\n",
      "|      household|      3024|               11|                          2.65|                                   90.74|\n",
      "|   meat seafood|      2535|               11|                          2.22|                                   92.96|\n",
      "|      breakfast|      2429|               11|                          2.13|                                   95.09|\n",
      "|  personal care|      1764|               11|                          1.55|                                   96.64|\n",
      "|         babies|      1086|               11|                          0.95|                                   97.59|\n",
      "|  international|      1012|               11|                          0.89|                                   98.48|\n",
      "|        missing|       665|               11|                          0.58|                                   99.06|\n",
      "|        alcohol|       456|               11|                           0.4|                                   99.46|\n",
      "|           pets|       378|               11|                          0.33|                                   99.79|\n",
      "|          other|       136|               11|                          0.12|                                   99.91|\n",
      "+---------------+----------+-----------------+------------------------------+----------------------------------------+\n",
      "only showing top 20 rows\n",
      "\n",
      "None\n",
      "+---------------+----------+-----------------+------------------------------+----------------------------------------+\n",
      "|     department|Quantidade|order_hour_of_day|Quantidade Relativa Percentual|Quantidade Relativa Percentual Acumulada|\n",
      "+---------------+----------+-----------------+------------------------------+----------------------------------------+\n",
      "|        produce|     33503|               12|                         29.98|                                   29.98|\n",
      "|     dairy eggs|     17008|               12|                         15.22|                                    45.2|\n",
      "|         snacks|      9600|               12|                          8.59|                                   53.79|\n",
      "|      beverages|      9179|               12|                          8.21|                                    62.0|\n",
      "|         frozen|      7795|               12|                          6.98|                                   68.98|\n",
      "|         pantry|      6939|               12|                          6.21|                                   75.19|\n",
      "|   canned goods|      3987|               12|                          3.57|                                   78.76|\n",
      "|         bakery|      3907|               12|                           3.5|                                   82.26|\n",
      "|           deli|      3691|               12|                           3.3|                                   85.56|\n",
      "|dry goods pasta|      3130|               12|                           2.8|                                   88.36|\n",
      "|      household|      2952|               12|                          2.64|                                    91.0|\n",
      "|   meat seafood|      2517|               12|                          2.25|                                   93.25|\n",
      "|      breakfast|      2241|               12|                          2.01|                                   95.26|\n",
      "|  personal care|      1643|               12|                          1.47|                                   96.73|\n",
      "|         babies|       958|               12|                          0.86|                                   97.59|\n",
      "|  international|       951|               12|                          0.85|                                   98.44|\n",
      "|        missing|       679|               12|                          0.61|                                   99.05|\n",
      "|        alcohol|       494|               12|                          0.44|                                   99.49|\n",
      "|           pets|       342|               12|                          0.31|                                    99.8|\n",
      "|          other|       140|               12|                          0.13|                                   99.93|\n",
      "+---------------+----------+-----------------+------------------------------+----------------------------------------+\n",
      "only showing top 20 rows\n",
      "\n",
      "None\n",
      "+---------------+----------+-----------------+------------------------------+----------------------------------------+\n",
      "|     department|Quantidade|order_hour_of_day|Quantidade Relativa Percentual|Quantidade Relativa Percentual Acumulada|\n",
      "+---------------+----------+-----------------+------------------------------+----------------------------------------+\n",
      "|        produce|     34361|               13|                         29.94|                                   29.94|\n",
      "|     dairy eggs|     17740|               13|                         15.46|                                    45.4|\n",
      "|         snacks|      9641|               13|                           8.4|                                    53.8|\n",
      "|      beverages|      9311|               13|                          8.11|                                   61.91|\n",
      "|         frozen|      8170|               13|                          7.12|                                   69.03|\n",
      "|         pantry|      6895|               13|                          6.01|                                   75.04|\n",
      "|   canned goods|      4094|               13|                          3.57|                                   78.61|\n",
      "|         bakery|      4023|               13|                          3.51|                                   82.12|\n",
      "|           deli|      3779|               13|                          3.29|                                   85.41|\n",
      "|dry goods pasta|      3343|               13|                          2.91|                                   88.32|\n",
      "|      household|      2877|               13|                          2.51|                                   90.83|\n",
      "|   meat seafood|      2534|               13|                          2.21|                                   93.04|\n",
      "|      breakfast|      2299|               13|                           2.0|                                   95.04|\n",
      "|  personal care|      1696|               13|                          1.48|                                   96.52|\n",
      "|         babies|      1130|               13|                          0.98|                                    97.5|\n",
      "|  international|      1086|               13|                          0.95|                                   98.45|\n",
      "|        missing|       659|               13|                          0.57|                                   99.02|\n",
      "|        alcohol|       520|               13|                          0.45|                                   99.47|\n",
      "|           pets|       369|               13|                          0.32|                                   99.79|\n",
      "|          other|       128|               13|                          0.11|                                    99.9|\n",
      "+---------------+----------+-----------------+------------------------------+----------------------------------------+\n",
      "only showing top 20 rows\n",
      "\n",
      "None\n",
      "+---------------+----------+-----------------+------------------------------+----------------------------------------+\n",
      "|     department|Quantidade|order_hour_of_day|Quantidade Relativa Percentual|Quantidade Relativa Percentual Acumulada|\n",
      "+---------------+----------+-----------------+------------------------------+----------------------------------------+\n",
      "|        produce|     35391|               14|                         29.65|                                   29.65|\n",
      "|     dairy eggs|     18599|               14|                         15.58|                                   45.23|\n",
      "|         snacks|     10482|               14|                          8.78|                                   54.01|\n",
      "|      beverages|      9710|               14|                          8.13|                                   62.14|\n",
      "|         frozen|      8718|               14|                           7.3|                                   69.44|\n",
      "|         pantry|      7127|               14|                          5.97|                                   75.41|\n",
      "|         bakery|      4260|               14|                          3.57|                                   78.98|\n",
      "|   canned goods|      3981|               14|                          3.34|                                   82.32|\n",
      "|           deli|      3756|               14|                          3.15|                                   85.47|\n",
      "|dry goods pasta|      3381|               14|                          2.83|                                    88.3|\n",
      "|      household|      2842|               14|                          2.38|                                   90.68|\n",
      "|   meat seafood|      2670|               14|                          2.24|                                   92.92|\n",
      "|      breakfast|      2533|               14|                          2.12|                                   95.04|\n",
      "|  personal care|      1801|               14|                          1.51|                                   96.55|\n",
      "|         babies|      1191|               14|                           1.0|                                   97.55|\n",
      "|  international|      1017|               14|                          0.85|                                    98.4|\n",
      "|        missing|       697|               14|                          0.58|                                   98.98|\n",
      "|        alcohol|       518|               14|                          0.43|                                   99.41|\n",
      "|           pets|       375|               14|                          0.31|                                   99.72|\n",
      "|          other|       188|               14|                          0.16|                                   99.88|\n",
      "+---------------+----------+-----------------+------------------------------+----------------------------------------+\n",
      "only showing top 20 rows\n",
      "\n",
      "None\n",
      "+---------------+----------+-----------------+------------------------------+----------------------------------------+\n",
      "|     department|Quantidade|order_hour_of_day|Quantidade Relativa Percentual|Quantidade Relativa Percentual Acumulada|\n",
      "+---------------+----------+-----------------+------------------------------+----------------------------------------+\n",
      "|        produce|     34824|               15|                         29.97|                                   29.97|\n",
      "|     dairy eggs|     17946|               15|                         15.44|                                   45.41|\n",
      "|         snacks|      9909|               15|                          8.53|                                   53.94|\n",
      "|      beverages|      9415|               15|                           8.1|                                   62.04|\n",
      "|         frozen|      8432|               15|                          7.26|                                    69.3|\n",
      "|         pantry|      6939|               15|                          5.97|                                   75.27|\n",
      "|         bakery|      4056|               15|                          3.49|                                   78.76|\n",
      "|   canned goods|      3965|               15|                          3.41|                                   82.17|\n",
      "|           deli|      3666|               15|                          3.15|                                   85.32|\n",
      "|dry goods pasta|      3330|               15|                          2.87|                                   88.19|\n",
      "|      household|      2866|               15|                          2.47|                                   90.66|\n",
      "|   meat seafood|      2579|               15|                          2.22|                                   92.88|\n",
      "|      breakfast|      2372|               15|                          2.04|                                   94.92|\n",
      "|  personal care|      1738|               15|                           1.5|                                   96.42|\n",
      "|         babies|      1184|               15|                          1.02|                                   97.44|\n",
      "|  international|      1039|               15|                          0.89|                                   98.33|\n",
      "|        missing|       701|               15|                           0.6|                                   98.93|\n",
      "|        alcohol|       620|               15|                          0.53|                                   99.46|\n",
      "|           pets|       356|               15|                          0.31|                                   99.77|\n",
      "|          other|       158|               15|                          0.14|                                   99.91|\n",
      "+---------------+----------+-----------------+------------------------------+----------------------------------------+\n",
      "only showing top 20 rows\n",
      "\n",
      "None\n",
      "+---------------+----------+-----------------+------------------------------+----------------------------------------+\n",
      "|     department|Quantidade|order_hour_of_day|Quantidade Relativa Percentual|Quantidade Relativa Percentual Acumulada|\n",
      "+---------------+----------+-----------------+------------------------------+----------------------------------------+\n",
      "|        produce|     32200|               16|                         29.21|                                   29.21|\n",
      "|     dairy eggs|     17292|               16|                         15.69|                                    44.9|\n",
      "|         snacks|      9546|               16|                          8.66|                                   53.56|\n",
      "|      beverages|      8675|               16|                          7.87|                                   61.43|\n",
      "|         frozen|      8528|               16|                          7.74|                                   69.17|\n",
      "|         pantry|      6360|               16|                          5.77|                                   74.94|\n",
      "|         bakery|      3859|               16|                           3.5|                                   78.44|\n",
      "|   canned goods|      3776|               16|                          3.43|                                   81.87|\n",
      "|           deli|      3757|               16|                          3.41|                                   85.28|\n",
      "|dry goods pasta|      3264|               16|                          2.96|                                   88.24|\n",
      "|      household|      2608|               16|                          2.37|                                   90.61|\n",
      "|   meat seafood|      2522|               16|                          2.29|                                    92.9|\n",
      "|      breakfast|      2265|               16|                          2.05|                                   94.95|\n",
      "|  personal care|      1660|               16|                          1.51|                                   96.46|\n",
      "|         babies|      1145|               16|                          1.04|                                    97.5|\n",
      "|  international|      1015|               16|                          0.92|                                   98.42|\n",
      "|        missing|       651|               16|                          0.59|                                   99.01|\n",
      "|        alcohol|       528|               16|                          0.48|                                   99.49|\n",
      "|           pets|       353|               16|                          0.32|                                   99.81|\n",
      "|          other|       142|               16|                          0.13|                                   99.94|\n",
      "+---------------+----------+-----------------+------------------------------+----------------------------------------+\n",
      "only showing top 20 rows\n",
      "\n",
      "None\n",
      "+---------------+----------+-----------------+------------------------------+----------------------------------------+\n",
      "|     department|Quantidade|order_hour_of_day|Quantidade Relativa Percentual|Quantidade Relativa Percentual Acumulada|\n",
      "+---------------+----------+-----------------+------------------------------+----------------------------------------+\n",
      "|        produce|     27582|               17|                         28.45|                                   28.45|\n",
      "|     dairy eggs|     14976|               17|                         15.45|                                    43.9|\n",
      "|         snacks|      8423|               17|                          8.69|                                   52.59|\n",
      "|      beverages|      8075|               17|                          8.33|                                   60.92|\n",
      "|         frozen|      7904|               17|                          8.15|                                   69.07|\n",
      "|         pantry|      5640|               17|                          5.82|                                   74.89|\n",
      "|         bakery|      3433|               17|                          3.54|                                   78.43|\n",
      "|           deli|      3211|               17|                          3.31|                                   81.74|\n",
      "|   canned goods|      3154|               17|                          3.25|                                   84.99|\n",
      "|dry goods pasta|      2885|               17|                          2.98|                                   87.97|\n",
      "|      household|      2485|               17|                          2.56|                                   90.53|\n",
      "|   meat seafood|      2149|               17|                          2.22|                                   92.75|\n",
      "|      breakfast|      2087|               17|                          2.15|                                    94.9|\n",
      "|  personal care|      1612|               17|                          1.66|                                   96.56|\n",
      "|  international|       885|               17|                          0.91|                                   97.47|\n",
      "|         babies|       858|               17|                          0.89|                                   98.36|\n",
      "|        missing|       562|               17|                          0.58|                                   98.94|\n",
      "|        alcohol|       443|               17|                          0.46|                                    99.4|\n",
      "|           pets|       344|               17|                          0.35|                                   99.75|\n",
      "|          other|       148|               17|                          0.15|                                    99.9|\n",
      "+---------------+----------+-----------------+------------------------------+----------------------------------------+\n",
      "only showing top 20 rows\n",
      "\n",
      "None\n"
     ]
    }
   ],
   "source": [
    "for hora in horas:\n",
    "    print(Produtos_mais_vendidos_por_hora_dep[hora].show())"
   ]
  },
  {
   "cell_type": "markdown",
   "metadata": {},
   "source": [
    "Tomada de decisão: Otimizar Logistica baseado nos produtos e departamentos que possuem maior frequência de compra "
   ]
  },
  {
   "cell_type": "markdown",
   "metadata": {},
   "source": [
    "# Análise 3: O produto mais requisitado, o mais procurado e o que mais vende"
   ]
  },
  {
   "cell_type": "markdown",
   "metadata": {},
   "source": [
    "Essa análise é baseada nos produtos que foram adicionados em primeiro aos carrinhos"
   ]
  },
  {
   "cell_type": "code",
   "execution_count": 49,
   "metadata": {},
   "outputs": [
    {
     "name": "stdout",
     "output_type": "stream",
     "text": [
      "+--------------------+----------+---------------+------------------------------+----------------------------------------+\n",
      "|        product_name|department|produtos_totais|Requisicao Relativa Percentual|Requisicao Relativa Percentual Acumulada|\n",
      "+--------------------+----------+---------------+------------------------------+----------------------------------------+\n",
      "|              banana|   produce|           4605|                          3.51|                                    3.51|\n",
      "|bag of organic ba...|   produce|           3889|                          2.96|                                    6.47|\n",
      "|  organic whole milk|dairy eggs|           1144|                          0.87|                                    7.34|\n",
      "|     organic avocado|   produce|            995|                          0.76|                                     8.1|\n",
      "|organic strawberries|   produce|            900|                          0.69|                                    8.79|\n",
      "|organic baby spinach|   produce|            869|                          0.66|                                    9.45|\n",
      "|organic hass avocado|   produce|            797|                          0.61|                                   10.06|\n",
      "|        spring water| beverages|            730|                          0.56|                                   10.62|\n",
      "|        strawberries|   produce|            707|                          0.54|                                   11.16|\n",
      "|sparkling water g...| beverages|            647|                          0.49|                                   11.65|\n",
      "|         large lemon|   produce|            575|                          0.44|                                   12.09|\n",
      "| organic raspberries|   produce|            557|                          0.42|                                   12.51|\n",
      "|                soda| beverages|            557|                          0.42|                                   12.93|\n",
      "|       hass avocados|   produce|            452|                          0.34|                                   13.27|\n",
      "|         raspberries|   produce|            435|                          0.33|                                    13.6|\n",
      "| large alfresco eggs|dairy eggs|            405|                          0.31|                                   13.91|\n",
      "|  organic half  half|dairy eggs|            397|                           0.3|                                   14.21|\n",
      "| organic blueberries|   produce|            393|                           0.3|                                   14.51|\n",
      "|      organic banana|   produce|            384|                          0.29|                                    14.8|\n",
      "|unsweetened almon...|dairy eggs|            378|                          0.29|                                   15.09|\n",
      "+--------------------+----------+---------------+------------------------------+----------------------------------------+\n"
     ]
    }
   ],
   "source": [
    "produtos_mais_procurados = spark.sql('SELECT DISTINCT p.product_name, p.department, COUNT(p.product_name) AS produtos_totais \\\n",
    "        FROM produtos_por_pedido pp \\\n",
    "        INNER JOIN produtos p ON p.product_id = pp.product_id \\\n",
    "        WHERE pp.add_to_cart_order = \"1\" \\\n",
    "        GROUP BY p.product_name, p.department \\\n",
    "        ORDER BY produtos_totais DESC')\n",
    "\n",
    "produtos_mais_procurados = produtos_mais_procurados.withColumn('Requisicao Relativa Percentual', \n",
    "                                F.round((F.col('produtos_totais') / F.sum('produtos_totais').over(Window.partitionBy())) * 100, 2)) \\\n",
    "                .withColumn('Requisicao Relativa Percentual Acumulada', \n",
    "                                F.round(F.sum('Requisicao Relativa Percentual').over(windowSpec), 2))\n",
    "\n",
    "produtos_mais_procurados.show()"
   ]
  },
  {
   "cell_type": "markdown",
   "metadata": {},
   "source": [
    "Esta análise é baseada na quantidade de vezes que o produto foi comprado novamente pelos clientes"
   ]
  },
  {
   "cell_type": "code",
   "execution_count": 52,
   "metadata": {},
   "outputs": [
    {
     "name": "stdout",
     "output_type": "stream",
     "text": [
      "+--------------------+----------+---------------+------------------------------+----------------------------------------+\n",
      "|        product_name|department|produtos_totais|Requisicao Relativa Percentual|Requisicao Relativa Percentual Acumulada|\n",
      "+--------------------+----------+---------------+------------------------------+----------------------------------------+\n",
      "|              banana|   produce|          16557|                           2.0|                                     2.0|\n",
      "|bag of organic ba...|   produce|          13362|                          1.61|                                    3.61|\n",
      "|organic strawberries|   produce|           8603|                          1.04|                                    4.65|\n",
      "|organic baby spinach|   produce|           8055|                          0.97|                                    5.62|\n",
      "|     organic avocado|   produce|           6226|                          0.75|                                    6.37|\n",
      "|organic hass avocado|   produce|           6042|                          0.73|                                     7.1|\n",
      "|         large lemon|   produce|           5923|                          0.71|                                    7.81|\n",
      "|        strawberries|   produce|           4786|                          0.58|                                    8.39|\n",
      "| organic raspberries|   produce|           4279|                          0.52|                                    8.91|\n",
      "|               limes|   produce|           4234|                          0.51|                                    9.42|\n",
      "|  organic whole milk|dairy eggs|           4174|                           0.5|                                    9.92|\n",
      "| organic blueberries|   produce|           3384|                          0.41|                                   10.33|\n",
      "|    organic zucchini|   produce|           3266|                          0.39|                                   10.72|\n",
      "|organic yellow onion|   produce|           3094|                          0.37|                                   11.09|\n",
      "|      organic garlic|   produce|           3041|                          0.37|                                   11.46|\n",
      "|    organic cucumber|   produce|           3007|                          0.36|                                   11.82|\n",
      "| seedless red grapes|   produce|           2869|                          0.35|                                   12.17|\n",
      "|organic grape tom...|   produce|           2727|                          0.33|                                    12.5|\n",
      "|sparkling water g...| beverages|           2662|                          0.32|                                   12.82|\n",
      "|    honeycrisp apple|   produce|           2655|                          0.32|                                   13.14|\n",
      "+--------------------+----------+---------------+------------------------------+----------------------------------------+\n"
     ]
    }
   ],
   "source": [
    "produtos_mais_requisitado = spark.sql('SELECT DISTINCT p.product_name, p.department, COUNT(p.product_name) AS produtos_totais \\\n",
    "        FROM produtos_por_pedido pp \\\n",
    "        INNER JOIN produtos p ON p.product_id = pp.product_id \\\n",
    "        WHERE pp.reordered = \"1\" \\\n",
    "        GROUP BY p.product_name, p.department \\\n",
    "        ORDER BY produtos_totais DESC')\n",
    "\n",
    "produtos_mais_requisitado = produtos_mais_requisitado.withColumn('Requisicao Relativa Percentual', \n",
    "                                F.round((F.col('produtos_totais') / F.sum('produtos_totais').over(Window.partitionBy())) * 100, 2)) \\\n",
    "                .withColumn('Requisicao Relativa Percentual Acumulada', \n",
    "                                F.round(F.sum('Requisicao Relativa Percentual').over(windowSpec), 2))\n",
    "\n",
    "produtos_mais_requisitado.show()"
   ]
  },
  {
   "cell_type": "markdown",
   "metadata": {},
   "source": [
    "Esta análise é baseasa na soma total de todos os produtos vendidos por produto"
   ]
  },
  {
   "cell_type": "code",
   "execution_count": 53,
   "metadata": {},
   "outputs": [
    {
     "name": "stdout",
     "output_type": "stream",
     "text": [
      "+--------------------+----------+---------------+------------------------------+----------------------------------------+\n",
      "|        product_name|department|produtos_totais|Requisicao Relativa Percentual|Requisicao Relativa Percentual Acumulada|\n",
      "+--------------------+----------+---------------+------------------------------+----------------------------------------+\n",
      "|              banana|   produce|          18726|                          1.35|                                    1.35|\n",
      "|bag of organic ba...|   produce|          15480|                          1.12|                                    2.47|\n",
      "|organic strawberries|   produce|          10894|                          0.79|                                    3.26|\n",
      "|organic baby spinach|   produce|           9784|                          0.71|                                    3.97|\n",
      "|         large lemon|   produce|           8135|                          0.59|                                    4.56|\n",
      "|     organic avocado|   produce|           7409|                          0.54|                                     5.1|\n",
      "|organic hass avocado|   produce|           7293|                          0.53|                                    5.63|\n",
      "|        strawberries|   produce|           6494|                          0.47|                                     6.1|\n",
      "|               limes|   produce|           6033|                          0.44|                                    6.54|\n",
      "| organic raspberries|   produce|           5546|                           0.4|                                    6.94|\n",
      "| organic blueberries|   produce|           4966|                          0.36|                                     7.3|\n",
      "|  organic whole milk|dairy eggs|           4908|                          0.35|                                    7.65|\n",
      "|    organic cucumber|   produce|           4613|                          0.33|                                    7.98|\n",
      "|    organic zucchini|   produce|           4589|                          0.33|                                    8.31|\n",
      "|organic yellow onion|   produce|           4290|                          0.31|                                    8.62|\n",
      "|      organic garlic|   produce|           4158|                           0.3|                                    8.92|\n",
      "| seedless red grapes|   produce|           4059|                          0.29|                                    9.21|\n",
      "|           asparagus|   produce|           3868|                          0.28|                                    9.49|\n",
      "|organic grape tom...|   produce|           3823|                          0.28|                                    9.77|\n",
      "|   organic red onion|   produce|           3818|                          0.28|                                   10.05|\n",
      "+--------------------+----------+---------------+------------------------------+----------------------------------------+\n"
     ]
    }
   ],
   "source": [
    "produtos_mais_vendidos = spark.sql('SELECT DISTINCT p.product_name, p.department, COUNT(p.product_name) AS produtos_totais \\\n",
    "        FROM produtos_por_pedido pp \\\n",
    "        INNER JOIN produtos p ON p.product_id = pp.product_id \\\n",
    "        GROUP BY p.product_name, p.department \\\n",
    "        ORDER BY produtos_totais DESC')\n",
    "\n",
    "produtos_mais_vendidos = produtos_mais_vendidos.withColumn('Requisicao Relativa Percentual', \n",
    "                                F.round((F.col('produtos_totais') / F.sum('produtos_totais').over(Window.partitionBy())) * 100, 2)) \\\n",
    "                .withColumn('Requisicao Relativa Percentual Acumulada', \n",
    "                                F.round(F.sum('Requisicao Relativa Percentual').over(windowSpec), 2))\n",
    "\n",
    "produtos_mais_vendidos.show()"
   ]
  },
  {
   "cell_type": "markdown",
   "metadata": {},
   "source": [
    "Tomada de decisão: Estratégia de marketing com ofertas e descontos para atrair mais publico ou aumentar a oferta baseado na demanda"
   ]
  },
  {
   "cell_type": "markdown",
   "metadata": {},
   "source": [
    "# Análise 4: Segmentação de clientes"
   ]
  },
  {
   "cell_type": "code",
   "execution_count": 78,
   "metadata": {},
   "outputs": [
    {
     "name": "stdout",
     "output_type": "stream",
     "text": [
      "+---------+------+-------------------------------+\n",
      "| segmento| count|Segmentacao Relativa percentual|\n",
      "+---------+------+-------------------------------+\n",
      "|     Raro|565036|                          40.81|\n",
      "| Moderado|335183|                          24.21|\n",
      "|Frequente|484373|                          34.98|\n",
      "+---------+------+-------------------------------+\n",
      "\n",
      "None\n",
      "+-------+--------+--------------------+---------+\n",
      "|user_id|avg_days|        product_name| segmento|\n",
      "+-------+--------+--------------------+---------+\n",
      "|  35663|    25.0|dairy free vanill...|     Raro|\n",
      "|  12109|     0.0|tortilla chips cl...|Frequente|\n",
      "| 164473|    17.0|organic garnet sw...| Moderado|\n",
      "| 164483|    30.0|           asparagus|     Raro|\n",
      "| 173429|    30.0|   mild chunky salsa|     Raro|\n",
      "|  84915|    29.0|jalapeno potato c...|     Raro|\n",
      "| 140481|    30.0|        tomato sauce|     Raro|\n",
      "|  39502|     7.0|       honey yoghurt|Frequente|\n",
      "|  36386|    30.0|organic tomato cl...|     Raro|\n",
      "| 203642|    30.0|mexican style fou...|     Raro|\n",
      "| 144535|    30.0|organic energy drink|     Raro|\n",
      "| 191755|     0.0|              banana|Frequente|\n",
      "| 203414|    28.0|             carrots|     Raro|\n",
      "| 154051|     0.0|uncured slow cook...|Frequente|\n",
      "| 103455|    30.0|organic lemon cay...|     Raro|\n",
      "| 198535|     6.0| organic raspberries|Frequente|\n",
      "| 174348|     8.0|  seedless cucumbers|Frequente|\n",
      "| 171629|    30.0|sixty second digi...|     Raro|\n",
      "|   7004|    12.0|trail mix fruit  ...| Moderado|\n",
      "|   7004|    12.0| lemonade with mango| Moderado|\n",
      "+-------+--------+--------------------+---------+\n",
      "only showing top 20 rows\n",
      "\n",
      "None\n"
     ]
    }
   ],
   "source": [
    "segmentacao_de_cliente = spark.sql(\"\"\"SELECT user_id,\n",
    "            avg_days,\n",
    "            product_name,\n",
    "            CASE\n",
    "                WHEN avg_days < 10 THEN 'Frequente'\n",
    "                WHEN avg_days BETWEEN 10 AND 20 THEN 'Moderado'\n",
    "                ELSE 'Raro'\n",
    "            END AS segmento\n",
    "        FROM (\n",
    "            SELECT p.user_id, AVG(p.days_since_prior_order) AS avg_days, pd.product_name\n",
    "            FROM pedidos p\n",
    "            INNER JOIN produtos_por_pedido pp ON pp.order_id = p.order_id\n",
    "            INNER JOIN produtos pd ON pp.product_id = pd.product_id\n",
    "            GROUP BY p.user_id, pd.product_name\n",
    "        ) AS subquery;\n",
    "\"\"\")\n",
    "\n",
    "seg = segmentacao_de_cliente.select('segmento').groupby('segmento').count()\n",
    "\n",
    "seg = seg.withColumn('Segmentacao Relativa percentual', \n",
    "                                F.round((F.col('count') / F.sum('count').over(Window.partitionBy())) * 100, 2))\n",
    "\n",
    "print(seg.show())\n",
    "print(segmentacao_de_cliente.show())"
   ]
  },
  {
   "cell_type": "code",
   "execution_count": 74,
   "metadata": {},
   "outputs": [
    {
     "data": {
      "image/png": "[encoded data removed]",
      "text/plain": [
       "<Figure size 800x600 with 1 Axes>"
      ]
     },
     "metadata": {},
     "output_type": "display_data"
    }
   ],
   "source": [
    "pandas_segmentacao = seg.toPandas()\n",
    "\n",
    "plt.figure(figsize=(8,6))\n",
    "plt.title('Frequência de Segmentação de Cliente')\n",
    "plt.bar(pandas_segmentacao['segmento'], pandas_segmentacao['Segmentacao Relativa percentual'])\n",
    "plt.xlabel('segmento')\n",
    "plt.ylabel('Segmentacao Relativa percentual')\n",
    "#plt.grid(True)\n",
    "plt.show()"
   ]
  },
  {
   "cell_type": "code",
   "execution_count": 85,
   "metadata": {},
   "outputs": [
    {
     "name": "stdout",
     "output_type": "stream",
     "text": [
      "+--------------------+-----+\n",
      "|        product_name|count|\n",
      "+--------------------+-----+\n",
      "|              banana|18726|\n",
      "|bag of organic ba...|15480|\n",
      "|organic strawberries|10894|\n",
      "|organic baby spinach| 9784|\n",
      "|         large lemon| 8135|\n",
      "|     organic avocado| 7409|\n",
      "|organic hass avocado| 7293|\n",
      "|        strawberries| 6494|\n",
      "|               limes| 6033|\n",
      "| organic raspberries| 5546|\n",
      "| organic blueberries| 4966|\n",
      "|  organic whole milk| 4908|\n",
      "|    organic cucumber| 4613|\n",
      "|    organic zucchini| 4589|\n",
      "|organic yellow onion| 4290|\n",
      "|      organic garlic| 4158|\n",
      "| seedless red grapes| 4059|\n",
      "|           asparagus| 3868|\n",
      "|organic grape tom...| 3823|\n",
      "|   organic red onion| 3818|\n",
      "+--------------------+-----+\n"
     ]
    }
   ],
   "source": [
    "#Produtos mais comprados dos clientes frequentes\n",
    "produtos_frequentes = segmentacao_de_cliente.filter(segmentacao_de_cliente.segmento == 'Frequente')\n",
    "\n",
    "segmentacao_de_cliente.select('product_name').groupby('product_name').count().orderBy(desc('count')).show()"
   ]
  },
  {
   "cell_type": "code",
   "execution_count": 84,
   "metadata": {},
   "outputs": [
    {
     "name": "stdout",
     "output_type": "stream",
     "text": [
      "+--------------------+-----+\n",
      "|        product_name|count|\n",
      "+--------------------+-----+\n",
      "|              banana|18726|\n",
      "|bag of organic ba...|15480|\n",
      "|organic strawberries|10894|\n",
      "|organic baby spinach| 9784|\n",
      "|         large lemon| 8135|\n",
      "|     organic avocado| 7409|\n",
      "|organic hass avocado| 7293|\n",
      "|        strawberries| 6494|\n",
      "|               limes| 6033|\n",
      "| organic raspberries| 5546|\n",
      "| organic blueberries| 4966|\n",
      "|  organic whole milk| 4908|\n",
      "|    organic cucumber| 4613|\n",
      "|    organic zucchini| 4589|\n",
      "|organic yellow onion| 4290|\n",
      "|      organic garlic| 4158|\n",
      "| seedless red grapes| 4059|\n",
      "|           asparagus| 3868|\n",
      "|organic grape tom...| 3823|\n",
      "|   organic red onion| 3818|\n",
      "+--------------------+-----+\n"
     ]
    }
   ],
   "source": [
    "#Produtos mais comprados dos clientes moderados\n",
    "produtos_frequentes = segmentacao_de_cliente.filter(segmentacao_de_cliente.segmento == 'Moderado')\n",
    "\n",
    "segmentacao_de_cliente.select('product_name').groupby('product_name').count().orderBy(desc('count')).show()"
   ]
  },
  {
   "cell_type": "code",
   "execution_count": 86,
   "metadata": {},
   "outputs": [
    {
     "name": "stdout",
     "output_type": "stream",
     "text": [
      "+--------------------+-----+\n",
      "|        product_name|count|\n",
      "+--------------------+-----+\n",
      "|              banana|18726|\n",
      "|bag of organic ba...|15480|\n",
      "|organic strawberries|10894|\n",
      "|organic baby spinach| 9784|\n",
      "|         large lemon| 8135|\n",
      "|     organic avocado| 7409|\n",
      "|organic hass avocado| 7293|\n",
      "|        strawberries| 6494|\n",
      "|               limes| 6033|\n",
      "| organic raspberries| 5546|\n",
      "| organic blueberries| 4966|\n",
      "|  organic whole milk| 4908|\n",
      "|    organic cucumber| 4613|\n",
      "|    organic zucchini| 4589|\n",
      "|organic yellow onion| 4290|\n",
      "|      organic garlic| 4158|\n",
      "| seedless red grapes| 4059|\n",
      "|           asparagus| 3868|\n",
      "|organic grape tom...| 3823|\n",
      "|   organic red onion| 3818|\n",
      "+--------------------+-----+\n"
     ]
    }
   ],
   "source": [
    "#Produtos mais comprados dos clientes raros\n",
    "produtos_frequentes = segmentacao_de_cliente.filter(segmentacao_de_cliente.segmento == 'Raro')\n",
    "\n",
    "segmentacao_de_cliente.select('product_name').groupby('product_name').count().orderBy(desc('count')).show()"
   ]
  },
  {
   "cell_type": "markdown",
   "metadata": {},
   "source": [
    "Tomada de decisão: Fidelizações de clientes e diversificações de Produtos"
   ]
  },
  {
   "cell_type": "code",
   "execution_count": 23,
   "metadata": {},
   "outputs": [
    {
     "data": {
      "text/plain": [
       "True"
      ]
     },
     "execution_count": 23,
     "metadata": {},
     "output_type": "execute_result"
    }
   ],
   "source": [
    "spark.catalog.dropTempView(\"produtos\")\n",
    "spark.catalog.dropTempView(\"pedidos\")\n",
    "spark.catalog.dropTempView(\"produtos_por_pedido\")"
   ]
  },
  {
   "cell_type": "markdown",
   "metadata": {},
   "source": [
    "# Análise 5: Corredores com maiores quantidades de vendas"
   ]
  },
  {
   "cell_type": "markdown",
   "metadata": {},
   "source": [
    "['product_id', 'product_name', 'aisle', 'department']\n",
    "['order_id', 'user_id', 'eval_set', 'order_number', 'order_dow', 'order_hour_of_day', 'days_since_prior_order']\n",
    "['order_id', 'product_id', 'add_to_cart_order', 'reordered']"
   ]
  },
  {
   "cell_type": "code",
   "execution_count": 49,
   "metadata": {},
   "outputs": [
    {
     "name": "stdout",
     "output_type": "stream",
     "text": [
      "+--------------------+------+---------------------------+-------------------------------------+\n",
      "|               aisle| Count|Vendas Relativs Percentuais|Vendas Relativs Percentuais Acumulada|\n",
      "+--------------------+------+---------------------------+-------------------------------------+\n",
      "|    fresh vegetables|150609|                      10.88|                                10.88|\n",
      "|        fresh fruits|150473|                      10.87|                                21.75|\n",
      "|packaged vegetabl...| 78493|                       5.67|                                27.42|\n",
      "|              yogurt| 55240|                       3.99|                                31.41|\n",
      "|     packaged cheese| 41699|                       3.01|                                34.42|\n",
      "|water seltzer spa...| 36617|                       2.64|                                37.06|\n",
      "|                milk| 32644|                       2.36|                                39.42|\n",
      "|      chips pretzels| 31269|                       2.26|                                41.68|\n",
      "|     soy lactosefree| 26240|                        1.9|                                43.58|\n",
      "|               bread| 23635|                       1.71|                                45.29|\n",
      "|        refrigerated| 23228|                       1.68|                                46.97|\n",
      "|       ice cream ice| 22676|                       1.64|                                48.61|\n",
      "|      frozen produce| 22453|                       1.62|                                50.23|\n",
      "|                eggs| 19875|                       1.44|                                51.67|\n",
      "|            crackers| 19592|                       1.41|                                53.08|\n",
      "|        frozen meals| 18221|                       1.32|                                 54.4|\n",
      "| energy granola bars| 17449|                       1.26|                                55.66|\n",
      "|          lunch meat| 16957|                       1.22|                                56.88|\n",
      "|         soft drinks| 16279|                       1.18|                                58.06|\n",
      "|              cereal| 16201|                       1.17|                                59.23|\n",
      "+--------------------+------+---------------------------+-------------------------------------+\n"
     ]
    }
   ],
   "source": [
    "corredores = spark.sql('SELECT p.aisle, COUNT(p.product_name) AS Count \\\n",
    "          FROM produtos p \\\n",
    "          INNER JOIN produtos_por_pedido pp ON pp.product_id=p.product_id \\\n",
    "          GROUP BY p.aisle \\\n",
    "          ORDER BY Count DESC')\n",
    "\n",
    "corredores = corredores.withColumn('Vendas Relativs Percentuais', \n",
    "                                F.round((F.col('Count') / F.sum('Count').over(Window.partitionBy())) * 100, 2)) \\\n",
    "                .withColumn('Vendas Relativs Percentuais Acumulada', \n",
    "                                F.round(F.sum('Vendas Relativs Percentuais').over(windowSpec), 2))\n",
    "\n",
    "corredores.show()"
   ]
  },
  {
   "cell_type": "markdown",
   "metadata": {},
   "source": [
    "Tomada de decisão: Otimizar logistica de tais corredores, e trabalhar na diversidade de produtos vendidos "
   ]
  }
 ],
 "metadata": {
  "kernelspec": {
   "display_name": "Python 3",
   "language": "python",
   "name": "python3"
  },
  "language_info": {
   "codemirror_mode": {
    "name": "ipython",
    "version": 3
   },
   "file_extension": ".py",
   "mimetype": "text/x-python",
   "name": "python",
   "nbconvert_exporter": "python",
   "pygments_lexer": "ipython3",
   "version": "3.12.1"
  }
 },
 "nbformat": 4,
 "nbformat_minor": 2
}
